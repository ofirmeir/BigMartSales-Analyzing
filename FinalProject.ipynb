{
 "cells": [
  {
   "cell_type": "code",
   "execution_count": 1,
   "metadata": {
    "cell_id": "00000-f4be9df1-5d5d-4039-8192-5d9de96f25f0",
    "deepnote_cell_type": "code",
    "deepnote_to_be_reexecuted": false,
    "execution_millis": 2675,
    "execution_start": 1626256451318,
    "source_hash": "d3c4d03",
    "tags": []
   },
   "outputs": [],
   "source": [
    "import numpy as np\n",
    "import pandas as pd\n",
    "import re\n",
    "import seaborn as sns\n",
    "from sklearn import datasets\n",
    "from sklearn.model_selection import train_test_split\n",
    "from sklearn.metrics import mean_squared_error\n",
    "\n",
    "\n",
    "from sklearn.ensemble import AdaBoostRegressor, RandomForestRegressor\n",
    "from sklearn.tree import DecisionTreeRegressor, export_graphviz\n",
    "from sklearn.neighbors import KNeighborsRegressor\n",
    "from sklearn.preprocessing import MinMaxScaler\n",
    "from sklearn.preprocessing import StandardScaler\n",
    "from sklearn.linear_model import LinearRegression, Lasso\n",
    "\n",
    "import matplotlib.pyplot as plt\n",
    "from IPython.display import SVG\n",
    "from graphviz import Source\n",
    "from IPython.display import display\n",
    "%matplotlib inline\n"
   ]
  },
  {
   "cell_type": "markdown",
   "metadata": {
    "cell_id": "00001-d0c7fabc-2410-4226-80d4-1696b1ddac65",
    "deepnote_cell_type": "text-cell-h2",
    "tags": []
   },
   "source": [
    "## Loading Data"
   ]
  },
  {
   "cell_type": "code",
   "execution_count": 2,
   "metadata": {
    "cell_id": "00002-27d6bbae-5bfe-478d-a1c7-a3cf9e37b3e3",
    "deepnote_cell_type": "code",
    "deepnote_to_be_reexecuted": false,
    "execution_millis": 35,
    "execution_start": 1626256453998,
    "source_hash": "7856ea7e",
    "tags": []
   },
   "outputs": [],
   "source": [
    "data = pd.read_csv('data.csv')"
   ]
  },
  {
   "cell_type": "markdown",
   "metadata": {
    "cell_id": "00003-b1ee34a5-dccc-48ce-b8e8-cfea777d2068",
    "deepnote_cell_type": "text-cell-h1",
    "tags": []
   },
   "source": [
    "# Data Exploration and Cleaning "
   ]
  },
  {
   "cell_type": "markdown",
   "metadata": {
    "cell_id": "00004-5675535d-cfb4-4c39-888f-260ce4078d50",
    "deepnote_cell_type": "text-cell-p",
    "tags": []
   },
   "source": [
    "Check&nbsp;how&nbsp;many&nbsp;examples&nbsp;and&nbsp;how&nbsp;many&nbsp;features&nbsp;are&nbsp;in&nbsp;the&nbsp;dataset and counting the number of missing value. replacing all nan var with mean(after checking a few options)"
   ]
  },
  {
   "cell_type": "code",
   "execution_count": 3,
   "metadata": {
    "cell_id": "00005-72bd4544-1331-449a-a8bb-b8bea203e701",
    "deepnote_cell_type": "code",
    "deepnote_to_be_reexecuted": false,
    "execution_millis": 21,
    "execution_start": 1626256454057,
    "source_hash": "603306b3",
    "tags": []
   },
   "outputs": [
    {
     "name": "stdout",
     "output_type": "stream",
     "text": [
      "(8523, 12)\n"
     ]
    }
   ],
   "source": [
    "print(data.shape)"
   ]
  },
  {
   "cell_type": "code",
   "execution_count": 4,
   "metadata": {
    "cell_id": "00006-c4d1bcba-466f-413b-9dde-af90e5bd73a2",
    "deepnote_cell_type": "code",
    "deepnote_to_be_reexecuted": false,
    "execution_millis": 136,
    "execution_start": 1626256454074,
    "source_hash": "4d5f977f",
    "tags": []
   },
   "outputs": [
    {
     "data": {
      "text/html": [
       "<div>\n",
       "<style scoped>\n",
       "    .dataframe tbody tr th:only-of-type {\n",
       "        vertical-align: middle;\n",
       "    }\n",
       "\n",
       "    .dataframe tbody tr th {\n",
       "        vertical-align: top;\n",
       "    }\n",
       "\n",
       "    .dataframe thead th {\n",
       "        text-align: right;\n",
       "    }\n",
       "</style>\n",
       "<table border=\"1\" class=\"dataframe\">\n",
       "  <thead>\n",
       "    <tr style=\"text-align: right;\">\n",
       "      <th></th>\n",
       "      <th>Item_Identifier</th>\n",
       "      <th>Item_Weight</th>\n",
       "      <th>Item_Fat_Content</th>\n",
       "      <th>Item_Visibility</th>\n",
       "      <th>Item_Type</th>\n",
       "      <th>Item_MRP</th>\n",
       "      <th>Outlet_Identifier</th>\n",
       "      <th>Outlet_Establishment_Year</th>\n",
       "      <th>Outlet_Size</th>\n",
       "      <th>Outlet_Location_Type</th>\n",
       "      <th>Outlet_Type</th>\n",
       "      <th>Item_Outlet_Sales</th>\n",
       "    </tr>\n",
       "  </thead>\n",
       "  <tbody>\n",
       "    <tr>\n",
       "      <th>0</th>\n",
       "      <td>FDA15</td>\n",
       "      <td>9.300</td>\n",
       "      <td>Low Fat</td>\n",
       "      <td>0.016047</td>\n",
       "      <td>Dairy</td>\n",
       "      <td>249.8092</td>\n",
       "      <td>OUT049</td>\n",
       "      <td>1999</td>\n",
       "      <td>Medium</td>\n",
       "      <td>Tier 1</td>\n",
       "      <td>Supermarket Type1</td>\n",
       "      <td>3735.1380</td>\n",
       "    </tr>\n",
       "    <tr>\n",
       "      <th>1</th>\n",
       "      <td>DRC01</td>\n",
       "      <td>5.920</td>\n",
       "      <td>Regular</td>\n",
       "      <td>0.019278</td>\n",
       "      <td>Soft Drinks</td>\n",
       "      <td>48.2692</td>\n",
       "      <td>OUT018</td>\n",
       "      <td>2009</td>\n",
       "      <td>Medium</td>\n",
       "      <td>Tier 3</td>\n",
       "      <td>Supermarket Type2</td>\n",
       "      <td>443.4228</td>\n",
       "    </tr>\n",
       "    <tr>\n",
       "      <th>2</th>\n",
       "      <td>FDN15</td>\n",
       "      <td>17.500</td>\n",
       "      <td>Low Fat</td>\n",
       "      <td>0.016760</td>\n",
       "      <td>Meat</td>\n",
       "      <td>141.6180</td>\n",
       "      <td>OUT049</td>\n",
       "      <td>1999</td>\n",
       "      <td>Medium</td>\n",
       "      <td>Tier 1</td>\n",
       "      <td>Supermarket Type1</td>\n",
       "      <td>2097.2700</td>\n",
       "    </tr>\n",
       "    <tr>\n",
       "      <th>3</th>\n",
       "      <td>FDX07</td>\n",
       "      <td>19.200</td>\n",
       "      <td>Regular</td>\n",
       "      <td>0.000000</td>\n",
       "      <td>Fruits and Vegetables</td>\n",
       "      <td>182.0950</td>\n",
       "      <td>OUT010</td>\n",
       "      <td>1998</td>\n",
       "      <td>NaN</td>\n",
       "      <td>Tier 3</td>\n",
       "      <td>Grocery Store</td>\n",
       "      <td>732.3800</td>\n",
       "    </tr>\n",
       "    <tr>\n",
       "      <th>4</th>\n",
       "      <td>NCD19</td>\n",
       "      <td>8.930</td>\n",
       "      <td>Low Fat</td>\n",
       "      <td>0.000000</td>\n",
       "      <td>Household</td>\n",
       "      <td>53.8614</td>\n",
       "      <td>OUT013</td>\n",
       "      <td>1987</td>\n",
       "      <td>High</td>\n",
       "      <td>Tier 3</td>\n",
       "      <td>Supermarket Type1</td>\n",
       "      <td>994.7052</td>\n",
       "    </tr>\n",
       "    <tr>\n",
       "      <th>5</th>\n",
       "      <td>FDP36</td>\n",
       "      <td>10.395</td>\n",
       "      <td>Regular</td>\n",
       "      <td>0.000000</td>\n",
       "      <td>Baking Goods</td>\n",
       "      <td>51.4008</td>\n",
       "      <td>OUT018</td>\n",
       "      <td>2009</td>\n",
       "      <td>Medium</td>\n",
       "      <td>Tier 3</td>\n",
       "      <td>Supermarket Type2</td>\n",
       "      <td>556.6088</td>\n",
       "    </tr>\n",
       "    <tr>\n",
       "      <th>6</th>\n",
       "      <td>FDO10</td>\n",
       "      <td>13.650</td>\n",
       "      <td>Regular</td>\n",
       "      <td>0.012741</td>\n",
       "      <td>Snack Foods</td>\n",
       "      <td>57.6588</td>\n",
       "      <td>OUT013</td>\n",
       "      <td>1987</td>\n",
       "      <td>High</td>\n",
       "      <td>Tier 3</td>\n",
       "      <td>Supermarket Type1</td>\n",
       "      <td>343.5528</td>\n",
       "    </tr>\n",
       "    <tr>\n",
       "      <th>7</th>\n",
       "      <td>FDP10</td>\n",
       "      <td>NaN</td>\n",
       "      <td>Low Fat</td>\n",
       "      <td>0.127470</td>\n",
       "      <td>Snack Foods</td>\n",
       "      <td>107.7622</td>\n",
       "      <td>OUT027</td>\n",
       "      <td>1985</td>\n",
       "      <td>Medium</td>\n",
       "      <td>Tier 3</td>\n",
       "      <td>Supermarket Type3</td>\n",
       "      <td>4022.7636</td>\n",
       "    </tr>\n",
       "    <tr>\n",
       "      <th>8</th>\n",
       "      <td>FDH17</td>\n",
       "      <td>16.200</td>\n",
       "      <td>Regular</td>\n",
       "      <td>0.016687</td>\n",
       "      <td>Frozen Foods</td>\n",
       "      <td>96.9726</td>\n",
       "      <td>OUT045</td>\n",
       "      <td>2002</td>\n",
       "      <td>NaN</td>\n",
       "      <td>Tier 2</td>\n",
       "      <td>Supermarket Type1</td>\n",
       "      <td>1076.5986</td>\n",
       "    </tr>\n",
       "    <tr>\n",
       "      <th>9</th>\n",
       "      <td>FDU28</td>\n",
       "      <td>19.200</td>\n",
       "      <td>Regular</td>\n",
       "      <td>0.094450</td>\n",
       "      <td>Frozen Foods</td>\n",
       "      <td>187.8214</td>\n",
       "      <td>OUT017</td>\n",
       "      <td>2007</td>\n",
       "      <td>NaN</td>\n",
       "      <td>Tier 2</td>\n",
       "      <td>Supermarket Type1</td>\n",
       "      <td>4710.5350</td>\n",
       "    </tr>\n",
       "  </tbody>\n",
       "</table>\n",
       "</div>"
      ],
      "text/plain": [
       "  Item_Identifier  Item_Weight Item_Fat_Content  Item_Visibility  \\\n",
       "0           FDA15        9.300          Low Fat         0.016047   \n",
       "1           DRC01        5.920          Regular         0.019278   \n",
       "2           FDN15       17.500          Low Fat         0.016760   \n",
       "3           FDX07       19.200          Regular         0.000000   \n",
       "4           NCD19        8.930          Low Fat         0.000000   \n",
       "5           FDP36       10.395          Regular         0.000000   \n",
       "6           FDO10       13.650          Regular         0.012741   \n",
       "7           FDP10          NaN          Low Fat         0.127470   \n",
       "8           FDH17       16.200          Regular         0.016687   \n",
       "9           FDU28       19.200          Regular         0.094450   \n",
       "\n",
       "               Item_Type  Item_MRP Outlet_Identifier  \\\n",
       "0                  Dairy  249.8092            OUT049   \n",
       "1            Soft Drinks   48.2692            OUT018   \n",
       "2                   Meat  141.6180            OUT049   \n",
       "3  Fruits and Vegetables  182.0950            OUT010   \n",
       "4              Household   53.8614            OUT013   \n",
       "5           Baking Goods   51.4008            OUT018   \n",
       "6            Snack Foods   57.6588            OUT013   \n",
       "7            Snack Foods  107.7622            OUT027   \n",
       "8           Frozen Foods   96.9726            OUT045   \n",
       "9           Frozen Foods  187.8214            OUT017   \n",
       "\n",
       "   Outlet_Establishment_Year Outlet_Size Outlet_Location_Type  \\\n",
       "0                       1999      Medium               Tier 1   \n",
       "1                       2009      Medium               Tier 3   \n",
       "2                       1999      Medium               Tier 1   \n",
       "3                       1998         NaN               Tier 3   \n",
       "4                       1987        High               Tier 3   \n",
       "5                       2009      Medium               Tier 3   \n",
       "6                       1987        High               Tier 3   \n",
       "7                       1985      Medium               Tier 3   \n",
       "8                       2002         NaN               Tier 2   \n",
       "9                       2007         NaN               Tier 2   \n",
       "\n",
       "         Outlet_Type  Item_Outlet_Sales  \n",
       "0  Supermarket Type1          3735.1380  \n",
       "1  Supermarket Type2           443.4228  \n",
       "2  Supermarket Type1          2097.2700  \n",
       "3      Grocery Store           732.3800  \n",
       "4  Supermarket Type1           994.7052  \n",
       "5  Supermarket Type2           556.6088  \n",
       "6  Supermarket Type1           343.5528  \n",
       "7  Supermarket Type3          4022.7636  \n",
       "8  Supermarket Type1          1076.5986  \n",
       "9  Supermarket Type1          4710.5350  "
      ]
     },
     "execution_count": 4,
     "metadata": {},
     "output_type": "execute_result"
    }
   ],
   "source": [
    "data.head(10)"
   ]
  },
  {
   "cell_type": "markdown",
   "metadata": {
    "cell_id": "00007-ebfe7b07-ba7b-49b4-958a-99a3d3cd16df",
    "deepnote_cell_type": "text-cell-p",
    "tags": []
   },
   "source": [
    "We&nbsp;have&nbsp;8523 examples&nbsp;and&nbsp;11 columns&nbsp;(10&nbsp;features&nbsp;and&nbsp;one&nbsp;label). "
   ]
  },
  {
   "cell_type": "markdown",
   "metadata": {
    "cell_id": "00008-60f190c2-1c55-4368-812b-240b1b82d217",
    "deepnote_cell_type": "markdown",
    "tags": []
   },
   "source": [
    "Rename columns to lower letters"
   ]
  },
  {
   "cell_type": "code",
   "execution_count": 5,
   "metadata": {
    "cell_id": "00009-af43f7a7-b1cd-4215-b15d-f1bf6f02de67",
    "deepnote_cell_type": "code",
    "deepnote_to_be_reexecuted": false,
    "execution_millis": 15,
    "execution_start": 1626256454200,
    "source_hash": "911cba49",
    "tags": []
   },
   "outputs": [
    {
     "data": {
      "text/plain": [
       "Index(['item_identifier', 'item_weight', 'item_fat_content', 'item_visibility',\n",
       "       'item_type', 'item_mrp', 'outlet_identifier',\n",
       "       'outlet_establishment_year', 'outlet_size', 'outlet_location_type',\n",
       "       'outlet_type', 'item_outlet_sales'],\n",
       "      dtype='object')"
      ]
     },
     "execution_count": 5,
     "metadata": {},
     "output_type": "execute_result"
    }
   ],
   "source": [
    "data = data.rename(columns=str.lower)\n",
    "data.columns"
   ]
  },
  {
   "cell_type": "markdown",
   "metadata": {
    "cell_id": "00010-0eb8f07c-6dd7-44ef-b5cf-7faf1bf9e7a9",
    "deepnote_cell_type": "text-cell-p",
    "tags": []
   },
   "source": [
    "Removing The 'outlet_identifier' column since we didn't see any correlation indicator with the target 'Item_Outlet_Sales', after we executed the pipeline."
   ]
  },
  {
   "cell_type": "code",
   "execution_count": 6,
   "metadata": {
    "cell_id": "00011-0af0986a-248e-4479-8d8b-7c32ce015308",
    "deepnote_cell_type": "code",
    "deepnote_to_be_reexecuted": false,
    "execution_millis": 13,
    "execution_start": 1626256454219,
    "source_hash": "c2974b27",
    "tags": []
   },
   "outputs": [],
   "source": [
    "data.drop(['outlet_identifier'], axis='columns', inplace=True) "
   ]
  },
  {
   "cell_type": "markdown",
   "metadata": {
    "cell_id": "00012-e9c1fb8f-b2dc-4730-9320-0c3138d26b9f",
    "deepnote_cell_type": "markdown",
    "tags": []
   },
   "source": [
    " If you look at the Item_Identifier. the unique ID of each item, it starts with either FD, DR or NC. If you see the categories, these look like being Food, Drinks and Non-Consumables. So we haved used the Item_Identifier variable to create a new column named 'item_type_identifier'"
   ]
  },
  {
   "cell_type": "code",
   "execution_count": 7,
   "metadata": {
    "cell_id": "00013-441e66f5-21b2-438e-9ea5-7d2cc8450674",
    "deepnote_cell_type": "code",
    "deepnote_to_be_reexecuted": false,
    "execution_millis": 133,
    "execution_start": 1626256454235,
    "source_hash": "5480eae6",
    "tags": []
   },
   "outputs": [],
   "source": [
    "#change column name \n",
    "data.rename(columns={'item_identifier': 'item_type_identifier'}, inplace=True)\n",
    "\n",
    "#Changing the values in the column to the first two letter\n",
    "data['item_type_identifier'].replace(regex={r'FD...':'Food', 'DR...':'Drinks', 'NC...':'Non-Consumable'}, inplace=True)"
   ]
  },
  {
   "cell_type": "code",
   "execution_count": 8,
   "metadata": {
    "cell_id": "00014-19cbdd43-9aa2-4164-abd6-b0aac84b98f7",
    "deepnote_cell_type": "code",
    "deepnote_to_be_reexecuted": false,
    "execution_millis": 91,
    "execution_start": 1626256454376,
    "source_hash": "41313cfa",
    "tags": []
   },
   "outputs": [
    {
     "data": {
      "text/html": [
       "<div>\n",
       "<style scoped>\n",
       "    .dataframe tbody tr th:only-of-type {\n",
       "        vertical-align: middle;\n",
       "    }\n",
       "\n",
       "    .dataframe tbody tr th {\n",
       "        vertical-align: top;\n",
       "    }\n",
       "\n",
       "    .dataframe thead th {\n",
       "        text-align: right;\n",
       "    }\n",
       "</style>\n",
       "<table border=\"1\" class=\"dataframe\">\n",
       "  <thead>\n",
       "    <tr style=\"text-align: right;\">\n",
       "      <th></th>\n",
       "      <th>item_type_identifier</th>\n",
       "      <th>item_weight</th>\n",
       "      <th>item_fat_content</th>\n",
       "      <th>item_visibility</th>\n",
       "      <th>item_type</th>\n",
       "      <th>item_mrp</th>\n",
       "      <th>outlet_establishment_year</th>\n",
       "      <th>outlet_size</th>\n",
       "      <th>outlet_location_type</th>\n",
       "      <th>outlet_type</th>\n",
       "      <th>item_outlet_sales</th>\n",
       "    </tr>\n",
       "  </thead>\n",
       "  <tbody>\n",
       "    <tr>\n",
       "      <th>0</th>\n",
       "      <td>Food</td>\n",
       "      <td>9.30</td>\n",
       "      <td>Low Fat</td>\n",
       "      <td>0.016047</td>\n",
       "      <td>Dairy</td>\n",
       "      <td>249.8092</td>\n",
       "      <td>1999</td>\n",
       "      <td>Medium</td>\n",
       "      <td>Tier 1</td>\n",
       "      <td>Supermarket Type1</td>\n",
       "      <td>3735.1380</td>\n",
       "    </tr>\n",
       "    <tr>\n",
       "      <th>1</th>\n",
       "      <td>Drinks</td>\n",
       "      <td>5.92</td>\n",
       "      <td>Regular</td>\n",
       "      <td>0.019278</td>\n",
       "      <td>Soft Drinks</td>\n",
       "      <td>48.2692</td>\n",
       "      <td>2009</td>\n",
       "      <td>Medium</td>\n",
       "      <td>Tier 3</td>\n",
       "      <td>Supermarket Type2</td>\n",
       "      <td>443.4228</td>\n",
       "    </tr>\n",
       "    <tr>\n",
       "      <th>2</th>\n",
       "      <td>Food</td>\n",
       "      <td>17.50</td>\n",
       "      <td>Low Fat</td>\n",
       "      <td>0.016760</td>\n",
       "      <td>Meat</td>\n",
       "      <td>141.6180</td>\n",
       "      <td>1999</td>\n",
       "      <td>Medium</td>\n",
       "      <td>Tier 1</td>\n",
       "      <td>Supermarket Type1</td>\n",
       "      <td>2097.2700</td>\n",
       "    </tr>\n",
       "    <tr>\n",
       "      <th>3</th>\n",
       "      <td>Food</td>\n",
       "      <td>19.20</td>\n",
       "      <td>Regular</td>\n",
       "      <td>0.000000</td>\n",
       "      <td>Fruits and Vegetables</td>\n",
       "      <td>182.0950</td>\n",
       "      <td>1998</td>\n",
       "      <td>NaN</td>\n",
       "      <td>Tier 3</td>\n",
       "      <td>Grocery Store</td>\n",
       "      <td>732.3800</td>\n",
       "    </tr>\n",
       "    <tr>\n",
       "      <th>4</th>\n",
       "      <td>Non-Consumable</td>\n",
       "      <td>8.93</td>\n",
       "      <td>Low Fat</td>\n",
       "      <td>0.000000</td>\n",
       "      <td>Household</td>\n",
       "      <td>53.8614</td>\n",
       "      <td>1987</td>\n",
       "      <td>High</td>\n",
       "      <td>Tier 3</td>\n",
       "      <td>Supermarket Type1</td>\n",
       "      <td>994.7052</td>\n",
       "    </tr>\n",
       "  </tbody>\n",
       "</table>\n",
       "</div>"
      ],
      "text/plain": [
       "  item_type_identifier  item_weight item_fat_content  item_visibility  \\\n",
       "0                 Food         9.30          Low Fat         0.016047   \n",
       "1               Drinks         5.92          Regular         0.019278   \n",
       "2                 Food        17.50          Low Fat         0.016760   \n",
       "3                 Food        19.20          Regular         0.000000   \n",
       "4       Non-Consumable         8.93          Low Fat         0.000000   \n",
       "\n",
       "               item_type  item_mrp  outlet_establishment_year outlet_size  \\\n",
       "0                  Dairy  249.8092                       1999      Medium   \n",
       "1            Soft Drinks   48.2692                       2009      Medium   \n",
       "2                   Meat  141.6180                       1999      Medium   \n",
       "3  Fruits and Vegetables  182.0950                       1998         NaN   \n",
       "4              Household   53.8614                       1987        High   \n",
       "\n",
       "  outlet_location_type        outlet_type  item_outlet_sales  \n",
       "0               Tier 1  Supermarket Type1          3735.1380  \n",
       "1               Tier 3  Supermarket Type2           443.4228  \n",
       "2               Tier 1  Supermarket Type1          2097.2700  \n",
       "3               Tier 3      Grocery Store           732.3800  \n",
       "4               Tier 3  Supermarket Type1           994.7052  "
      ]
     },
     "execution_count": 8,
     "metadata": {},
     "output_type": "execute_result"
    }
   ],
   "source": [
    "data.head()"
   ]
  },
  {
   "cell_type": "markdown",
   "metadata": {
    "cell_id": "00015-94f5fc2e-38b6-4c7f-ace7-3ad7916e9034",
    "deepnote_cell_type": "text-cell-p",
    "tags": []
   },
   "source": [
    "Lets see the number of unique values of every feature"
   ]
  },
  {
   "cell_type": "code",
   "execution_count": 9,
   "metadata": {
    "cell_id": "00016-8a5c1bac-7da8-4766-8e85-3296a2921257",
    "deepnote_cell_type": "code",
    "deepnote_to_be_reexecuted": false,
    "execution_millis": 24,
    "execution_start": 1626256454461,
    "source_hash": "39560aba",
    "tags": []
   },
   "outputs": [
    {
     "name": "stdout",
     "output_type": "stream",
     "text": [
      "{'item_type_identifier': 3, 'item_weight': 416, 'item_fat_content': 5, 'item_visibility': 7880, 'item_type': 16, 'item_mrp': 5938, 'outlet_establishment_year': 9, 'outlet_size': 4, 'outlet_location_type': 3, 'outlet_type': 4}\n"
     ]
    }
   ],
   "source": [
    "feature_columns = list(data.columns)\n",
    "feature_columns.remove('item_outlet_sales')\n",
    "feature_col_unique_values = {}\n",
    "for feature in feature_columns:\n",
    "    feature_col_unique_values[feature] = pd.unique(data[feature]).shape[0]\n",
    "\n",
    "print(feature_col_unique_values)"
   ]
  },
  {
   "cell_type": "markdown",
   "metadata": {
    "cell_id": "00017-1b21f94a-844f-456c-bdaa-0e1abc37fae3",
    "deepnote_cell_type": "markdown",
    "tags": []
   },
   "source": [
    "Lets observe the values of the features, that have less then 20 different values"
   ]
  },
  {
   "cell_type": "code",
   "execution_count": 10,
   "metadata": {
    "cell_id": "00018-dcaa8140-6134-4048-a97f-90cd13a01c3b",
    "deepnote_cell_type": "code",
    "deepnote_to_be_reexecuted": false,
    "execution_millis": 24,
    "execution_start": 1626256454482,
    "source_hash": "e8a7bedc",
    "tags": []
   },
   "outputs": [
    {
     "name": "stdout",
     "output_type": "stream",
     "text": [
      "dict_keys(['item_type_identifier', 'item_weight', 'item_fat_content', 'item_visibility', 'item_type', 'item_mrp', 'outlet_establishment_year', 'outlet_size', 'outlet_location_type', 'outlet_type'])\n",
      "item_type_identifier :['Food' 'Drinks' 'Non-Consumable']\n",
      "\n",
      "item_fat_content :['Low Fat' 'Regular' 'low fat' 'LF' 'reg']\n",
      "\n",
      "item_type :['Dairy' 'Soft Drinks' 'Meat' 'Fruits and Vegetables' 'Household'\n",
      " 'Baking Goods' 'Snack Foods' 'Frozen Foods' 'Breakfast'\n",
      " 'Health and Hygiene' 'Hard Drinks' 'Canned' 'Breads' 'Starchy Foods'\n",
      " 'Others' 'Seafood']\n",
      "\n",
      "outlet_establishment_year :[1999 2009 1998 1987 1985 2002 2007 1997 2004]\n",
      "\n",
      "outlet_size :['Medium' nan 'High' 'Small']\n",
      "\n",
      "outlet_location_type :['Tier 1' 'Tier 3' 'Tier 2']\n",
      "\n",
      "outlet_type :['Supermarket Type1' 'Supermarket Type2' 'Grocery Store'\n",
      " 'Supermarket Type3']\n",
      "\n"
     ]
    }
   ],
   "source": [
    "column_names = feature_col_unique_values.keys()\n",
    "print(column_names)\n",
    "for column in column_names:\n",
    "    if feature_col_unique_values[column] < 20:\n",
    "        print(column + \" :\" + str(pd.unique(data[column])))\n",
    "        print()"
   ]
  },
  {
   "cell_type": "markdown",
   "metadata": {
    "cell_id": "00019-2c6a6f09-5c2b-4d28-87ef-0c3088b35350",
    "deepnote_cell_type": "markdown",
    "tags": []
   },
   "source": [
    "In Addition , we can see some irregular data collected in the 'item_visibility' column"
   ]
  },
  {
   "cell_type": "code",
   "execution_count": 11,
   "metadata": {
    "cell_id": "00020-fcef7260-a6b7-4e4a-9fda-de2d76b43739",
    "deepnote_cell_type": "code",
    "deepnote_to_be_reexecuted": false,
    "execution_millis": 19,
    "execution_start": 1626256454504,
    "source_hash": "7cbfe1ef",
    "tags": []
   },
   "outputs": [
    {
     "name": "stdout",
     "output_type": "stream",
     "text": [
      "Number of items that have item_visibility == 0  is : 526\n"
     ]
    }
   ],
   "source": [
    "print('Number of items that have item_visibility == 0  is : '+ str(data.loc[data.item_visibility == 0, 'item_visibility'].count()))"
   ]
  },
  {
   "cell_type": "markdown",
   "metadata": {
    "cell_id": "00021-1a0c2c85-d3d5-4000-b8e9-f151dd1a4a61",
    "deepnote_cell_type": "markdown",
    "tags": []
   },
   "source": [
    "Some intersting observations (some of them were seen after we had a working pipeline):\n",
    "\n",
    "1. In column 'item_fat_content' there are 'Low_Fat' values that have been miss-coded to \"LF\" OR \"low fat\". In addition,some of the 'Regular' values are mentioned as 'regular'.\n",
    "\n",
    "2. There are 16 different types of items \n",
    "\n",
    "3. There are 3 different outlet sizes : ['Medium', 'High', 'Small']\n",
    "\n",
    "4. There are 4 different outlet types : ['Supermarket Type1' ,'Supermarket Type2', 'Grocery Store',\n",
    " 'Supermarket Type3']\n",
    " \n",
    "5. There are 16 types of item catagories in our data\n",
    "\n",
    "6. In the 'outlet_establishment_year' column there are 9 different years. We can change the year to a more logical data.\n",
    "instead of the outlet_establishment_year we can chage the column to years_establisment_been_working(notice that the data is documented in 2013)\n",
    "\n",
    "7. We can see that 526 items have visibility of 0 , this is not possible . If an item is in the store it most be visible.\n",
    "\n",
    "\n",
    "\n",
    "\n",
    "Lets fix the data from the above observations: \n",
    "\n",
    "- Deal with values with same meaning in 'item_fat_content' column\n",
    "\n",
    "- We can change the year to a more logical data.\n",
    "instead of the 'outlet_establishment_year' we can chage the column to 'years_establisment_been_working'(notice that the data is documanted in 2013)\n",
    "\n",
    "- Changing all items with visibility 0 to the mean value of visibility in the data, this decision is made after reviewing the preformences with the median value. "
   ]
  },
  {
   "cell_type": "code",
   "execution_count": 12,
   "metadata": {
    "cell_id": "00022-39948607-9a6f-4f30-8b28-7d48285562e1",
    "deepnote_cell_type": "code",
    "deepnote_to_be_reexecuted": false,
    "execution_millis": 48,
    "execution_start": 1626256454525,
    "source_hash": "ba3e4b20",
    "tags": []
   },
   "outputs": [],
   "source": [
    "#Deal with values with same meaning in 'item_fat_content' column\n",
    "data['item_fat_content'] = data['item_fat_content'].replace({'LF':'Low Fat','low fat':'Low Fat','reg':'Regular'})\n",
    "\n",
    "# change the year to a more logical data\n",
    "data['outlet_establishment_year'] = 2013 - data['outlet_establishment_year']\n",
    "data.rename(columns={'outlet_establishment_year':'years_establisment_been_working'},inplace = True)\n",
    "\n",
    "#Changing all items with visibility 0 to the mean value of visibility in the data\n",
    "data['item_visibility'].replace(0, np.nan, inplace=True)\n",
    "items_visibility_mean = data['item_visibility'].mean(skipna=True)\n",
    "items_visibility_median = data['item_visibility'].median(skipna=True)\n",
    "data['item_visibility'].fillna(items_visibility_mean, inplace=True)\n",
    "#data['item_visibility'].fillna(items_visibility_median, inplace=True)\n"
   ]
  },
  {
   "cell_type": "code",
   "execution_count": 13,
   "metadata": {
    "cell_id": "00023-76f37b0b-2d1e-4e46-99d8-7451c865b838",
    "deepnote_cell_type": "code",
    "deepnote_to_be_reexecuted": false,
    "execution_millis": 30,
    "execution_start": 1626256454580,
    "source_hash": "e069d170",
    "tags": []
   },
   "outputs": [
    {
     "name": "stdout",
     "output_type": "stream",
     "text": [
      "Number of items that have item_visibility == 0  is : 0\n",
      "item_fat_content : ['Low Fat' 'Regular']\n"
     ]
    }
   ],
   "source": [
    "print('Number of items that have item_visibility == 0  is : '+ str(data.loc[data.item_visibility == 0, 'item_visibility'].count()))\n",
    "print(\"item_fat_content : \" + str(pd.unique(data['item_fat_content'])))"
   ]
  },
  {
   "cell_type": "markdown",
   "metadata": {
    "cell_id": "00024-f7db5e52-2650-4d53-9984-13354d472d2e",
    "deepnote_cell_type": "markdown",
    "tags": []
   },
   "source": [
    "Lets visualize some of the columns values appearances : \n",
    "\n",
    "1.'outlet_size' - how many appearances for each size"
   ]
  },
  {
   "cell_type": "code",
   "execution_count": 14,
   "metadata": {
    "cell_id": "00025-1db30f01-09ee-4452-b5a8-62ecd1347bd7",
    "deepnote_cell_type": "code",
    "deepnote_to_be_reexecuted": false,
    "execution_millis": 364,
    "execution_start": 1626256454605,
    "source_hash": "97da1bb3",
    "tags": []
   },
   "outputs": [
    {
     "data": {
      "text/plain": [
       "Text(0.5, 0, 'Appearance')"
      ]
     },
     "execution_count": 14,
     "metadata": {},
     "output_type": "execute_result"
    },
    {
     "data": {
      "image/png": "[encoded data removed]",
      "text/plain": [
       "<Figure size 1080x576 with 1 Axes>"
      ]
     },
     "metadata": {
      "needs_background": "light"
     },
     "output_type": "display_data"
    }
   ],
   "source": [
    "\n",
    "outlet_sizes, outlet_sizes_count = np.unique(data['outlet_size'].fillna('Nan'), return_counts=True)\n",
    "plt.figure(figsize=(15,8))\n",
    "plt.bar(outlet_sizes, height=outlet_sizes_count)\n",
    "plt.ylabel('Outlet size')\n",
    "plt.xlabel('Appearance')\n"
   ]
  },
  {
   "cell_type": "markdown",
   "metadata": {
    "cell_id": "00026-db40e3ad-dc6c-4ec0-be4a-c91300b08259",
    "deepnote_cell_type": "markdown",
    "tags": []
   },
   "source": [
    "2.'item_type' - how many appearances for each item type"
   ]
  },
  {
   "cell_type": "code",
   "execution_count": 15,
   "metadata": {
    "cell_id": "00027-a3c69f38-c377-4057-a769-060c4aa4d038",
    "deepnote_cell_type": "code",
    "deepnote_to_be_reexecuted": false,
    "execution_millis": 647,
    "execution_start": 1626256454966,
    "source_hash": "f408000b",
    "tags": []
   },
   "outputs": [
    {
     "data": {
      "text/plain": [
       "Text(0.5, 0, 'Appearance')"
      ]
     },
     "execution_count": 15,
     "metadata": {},
     "output_type": "execute_result"
    },
    {
     "data": {
      "image/png": "[encoded data removed]",
      "text/plain": [
       "<Figure size 2160x720 with 1 Axes>"
      ]
     },
     "metadata": {
      "needs_background": "light"
     },
     "output_type": "display_data"
    }
   ],
   "source": [
    "#Option is to change small count values to other type of foods \n",
    "item_types,item_type_count = np.unique(data['item_type'],return_counts=True)\n",
    "plt.figure(figsize=(30,10))\n",
    "plt.bar(item_types, height=item_type_count)\n",
    "plt.ylabel('Item Type')\n",
    "plt.xlabel('Appearance')"
   ]
  },
  {
   "cell_type": "markdown",
   "metadata": {
    "cell_id": "00028-d4b42090-75b2-4890-aadf-35d64a03c2ba",
    "deepnote_cell_type": "markdown",
    "tags": []
   },
   "source": [
    "Lets visualize the distribiution of the item sales given the outlet type"
   ]
  },
  {
   "cell_type": "code",
   "execution_count": 16,
   "metadata": {
    "cell_id": "00029-b440e474-5c54-40e4-a072-ba74da8f726d",
    "deepnote_cell_type": "code",
    "deepnote_to_be_reexecuted": false,
    "execution_millis": 568,
    "execution_start": 1626256455616,
    "source_hash": "ac88e75e",
    "tags": []
   },
   "outputs": [
    {
     "name": "stderr",
     "output_type": "stream",
     "text": [
      "\\seaborn\\_decorators.py:36: FutureWarning: Pass the following variables as keyword args: x, y. From version 0.12, the only valid positional argument will be `data`, and passing other arguments without an explicit keyword will result in an error or misinterpretation.\n",
      "  warnings.warn(\n"
     ]
    },
    {
     "data": {
      "text/plain": [
       "<AxesSubplot:xlabel='outlet_type', ylabel='item_outlet_sales'>"
      ]
     },
     "execution_count": 16,
     "metadata": {},
     "output_type": "execute_result"
    },
    {
     "data": {
      "image/png": "[encoded data removed]",
      "text/plain": [
       "<Figure size 720x576 with 1 Axes>"
      ]
     },
     "metadata": {
      "needs_background": "light"
     },
     "output_type": "display_data"
    }
   ],
   "source": [
    "fig_dims = (10, 8)\n",
    "fig, ax = plt.subplots(figsize=fig_dims)\n",
    "sns.violinplot('outlet_type','item_outlet_sales', ax=ax, data = data)"
   ]
  },
  {
   "cell_type": "markdown",
   "metadata": {
    "cell_id": "00030-06187ff4-ca9b-4aa4-858b-5f64343aaf05",
    "deepnote_cell_type": "markdown",
    "tags": []
   },
   "source": [
    "From the figure above we can conclude that grocery stores has the most of the lower price sales as compared to other store types. \n",
    "From this visualizaion we can consider marging the Type 1 and type 2 Supermarkets, \n",
    "lets see the mean of sales given the supermarket type"
   ]
  },
  {
   "cell_type": "code",
   "execution_count": 17,
   "metadata": {
    "cell_id": "00031-f0e15423-c314-4a61-bbea-73e287092426",
    "deepnote_cell_type": "code",
    "deepnote_to_be_reexecuted": false,
    "execution_millis": 30,
    "execution_start": 1626256456187,
    "source_hash": "fef68379",
    "tags": []
   },
   "outputs": [
    {
     "data": {
      "text/html": [
       "<div>\n",
       "<style scoped>\n",
       "    .dataframe tbody tr th:only-of-type {\n",
       "        vertical-align: middle;\n",
       "    }\n",
       "\n",
       "    .dataframe tbody tr th {\n",
       "        vertical-align: top;\n",
       "    }\n",
       "\n",
       "    .dataframe thead th {\n",
       "        text-align: right;\n",
       "    }\n",
       "</style>\n",
       "<table border=\"1\" class=\"dataframe\">\n",
       "  <thead>\n",
       "    <tr style=\"text-align: right;\">\n",
       "      <th></th>\n",
       "      <th>item_outlet_sales</th>\n",
       "    </tr>\n",
       "    <tr>\n",
       "      <th>outlet_type</th>\n",
       "      <th></th>\n",
       "    </tr>\n",
       "  </thead>\n",
       "  <tbody>\n",
       "    <tr>\n",
       "      <th>Grocery Store</th>\n",
       "      <td>339.828500</td>\n",
       "    </tr>\n",
       "    <tr>\n",
       "      <th>Supermarket Type1</th>\n",
       "      <td>2316.181148</td>\n",
       "    </tr>\n",
       "    <tr>\n",
       "      <th>Supermarket Type2</th>\n",
       "      <td>1995.498739</td>\n",
       "    </tr>\n",
       "    <tr>\n",
       "      <th>Supermarket Type3</th>\n",
       "      <td>3694.038558</td>\n",
       "    </tr>\n",
       "  </tbody>\n",
       "</table>\n",
       "</div>"
      ],
      "text/plain": [
       "                   item_outlet_sales\n",
       "outlet_type                         \n",
       "Grocery Store             339.828500\n",
       "Supermarket Type1        2316.181148\n",
       "Supermarket Type2        1995.498739\n",
       "Supermarket Type3        3694.038558"
      ]
     },
     "execution_count": 17,
     "metadata": {},
     "output_type": "execute_result"
    }
   ],
   "source": [
    "data.pivot_table(values='item_outlet_sales',index='outlet_type')\n"
   ]
  },
  {
   "cell_type": "markdown",
   "metadata": {
    "cell_id": "00032-cf3c83f0-fab9-4ed2-8425-93b11fa42414",
    "deepnote_cell_type": "markdown",
    "tags": []
   },
   "source": [
    "We can see that the diffrence between Type 1 and Type 2 are more significate then the visualization. \n",
    "Therfore we won`t combine this feature values.  "
   ]
  },
  {
   "cell_type": "markdown",
   "metadata": {
    "cell_id": "00033-a6d3490d-70e5-41da-8dd7-3ea587e9f86f",
    "deepnote_cell_type": "text-cell-h2",
    "tags": []
   },
   "source": [
    "## Labels\\Amount of Sales Distribution"
   ]
  },
  {
   "cell_type": "code",
   "execution_count": 18,
   "metadata": {
    "cell_id": "00034-d50f39e1-5879-4882-8702-c568e7e70af7",
    "deepnote_cell_type": "code",
    "deepnote_to_be_reexecuted": false,
    "execution_millis": 444,
    "execution_start": 1626256456224,
    "source_hash": "692df652",
    "tags": []
   },
   "outputs": [
    {
     "name": "stdout",
     "output_type": "stream",
     "text": [
      "Following is a Histogram of the number of sales distribution:\n"
     ]
    },
    {
     "data": {
      "text/plain": [
       "Text(0.5, 0, 'Sales Bins')"
      ]
     },
     "execution_count": 18,
     "metadata": {},
     "output_type": "execute_result"
    },
    {
     "data": {
      "image/png": "[encoded data removed]",
      "text/plain": [
       "<Figure size 432x288 with 1 Axes>"
      ]
     },
     "metadata": {
      "needs_background": "light"
     },
     "output_type": "display_data"
    }
   ],
   "source": [
    "print(\"Following is a Histogram of the number of sales distribution:\")\n",
    "plt.hist(data['item_outlet_sales'], bins=20)\n",
    "plt.ylabel('# of Sales')\n",
    "plt.xlabel('Sales Bins')"
   ]
  },
  {
   "cell_type": "markdown",
   "metadata": {
    "cell_id": "00035-c84e861b-61af-4401-82ad-50ad365bf306",
    "deepnote_cell_type": "text-cell-p",
    "tags": []
   },
   "source": [
    "We can see that the majority of the products were sold 0 - 3000 times and that some products sold more than 3000 times."
   ]
  },
  {
   "cell_type": "markdown",
   "metadata": {
    "cell_id": "00036-8ef18bef-cac0-465e-9b3e-b6aa8132ca46",
    "deepnote_cell_type": "text-cell-p",
    "tags": []
   },
   "source": [
    "checking which columns have Nan values "
   ]
  },
  {
   "cell_type": "code",
   "execution_count": 19,
   "metadata": {
    "cell_id": "00037-838191e5-5919-4e01-8e1b-4f7f7d367351",
    "deepnote_cell_type": "code",
    "deepnote_to_be_reexecuted": false,
    "execution_millis": 20,
    "execution_start": 1626256456669,
    "source_hash": "66671a9a",
    "tags": []
   },
   "outputs": [
    {
     "data": {
      "text/plain": [
       "item_type_identifier               0.000000\n",
       "item_weight                        0.171653\n",
       "item_fat_content                   0.000000\n",
       "item_visibility                    0.000000\n",
       "item_type                          0.000000\n",
       "item_mrp                           0.000000\n",
       "years_establisment_been_working    0.000000\n",
       "outlet_size                        0.282764\n",
       "outlet_location_type               0.000000\n",
       "outlet_type                        0.000000\n",
       "item_outlet_sales                  0.000000\n",
       "dtype: float64"
      ]
     },
     "execution_count": 19,
     "metadata": {},
     "output_type": "execute_result"
    }
   ],
   "source": [
    "data.isna().mean()"
   ]
  },
  {
   "cell_type": "markdown",
   "metadata": {
    "cell_id": "00038-07966131-c9e7-46cc-a4d7-cc060ee352f2",
    "deepnote_cell_type": "markdown",
    "tags": []
   },
   "source": [
    "We see that we have two columns that have missing values. \n",
    "\n",
    "1.item_weight - approximately 17% of the data                        \n",
    "\n",
    "2.outlet_size - approximatley 28% of the data "
   ]
  },
  {
   "cell_type": "markdown",
   "metadata": {
    "cell_id": "00039-0152c39a-620f-4b18-b98d-84631908bceb",
    "deepnote_cell_type": "markdown",
    "tags": []
   },
   "source": [
    "After evaluating the data set we decided to fill the Nan values in the 'outlet_size' column with the majority size of that instance outlet_type"
   ]
  },
  {
   "cell_type": "code",
   "execution_count": 20,
   "metadata": {
    "cell_id": "00040-e96b06c5-2dc5-4db0-bd2b-3d6cbd9fe3c9",
    "deepnote_cell_type": "code",
    "deepnote_to_be_reexecuted": false,
    "execution_millis": 233,
    "execution_start": 1626256456692,
    "source_hash": "611a314e",
    "tags": []
   },
   "outputs": [
    {
     "name": "stdout",
     "output_type": "stream",
     "text": [
      "Mode for each Outlet_Type:\n",
      "outlet_type Grocery Store Supermarket Type1 Supermarket Type2  \\\n",
      "outlet_size         Small             Small            Medium   \n",
      "\n",
      "outlet_type Supermarket Type3  \n",
      "outlet_size            Medium  \n",
      "\n",
      "Orignal #missing: 2410 \n",
      "\n",
      "\n",
      "Changed #missing: 0 \n",
      "\n"
     ]
    }
   ],
   "source": [
    "#Import mode function:\n",
    "from scipy.stats import mode\n",
    "\n",
    "#Determing the mode for each\n",
    "outlet_size_mode = data.pivot_table(values='outlet_size', columns='outlet_type',aggfunc=(lambda x:mode(x).mode[0]) )\n",
    "print ('Mode for each Outlet_Type:')\n",
    "print (outlet_size_mode)\n",
    "\n",
    "#Get a boolean variable specifying missing Item_Weight values\n",
    "miss_bool = data['outlet_size'].isnull() \n",
    "\n",
    "\n",
    "\n",
    "#Impute data and check #missing values before and after imputation to confirm\n",
    "print ('\\nOrignal #missing: %d \\n'% sum(miss_bool))\n",
    "data.loc[miss_bool,'outlet_size'] = data.loc[miss_bool,'outlet_type'].apply(lambda x: outlet_size_mode[x])\n",
    "print ('\\nChanged #missing: %d \\n'%sum(data['outlet_size'].isnull()))\n",
    "\n"
   ]
  },
  {
   "cell_type": "code",
   "execution_count": 21,
   "metadata": {
    "cell_id": "00041-97a5532c-30d9-454f-92c0-32c1eeb87521",
    "deepnote_cell_type": "code",
    "deepnote_to_be_reexecuted": false,
    "execution_millis": 54,
    "execution_start": 1626256456922,
    "source_hash": "66671a9a",
    "tags": []
   },
   "outputs": [
    {
     "data": {
      "text/plain": [
       "item_type_identifier               0.000000\n",
       "item_weight                        0.171653\n",
       "item_fat_content                   0.000000\n",
       "item_visibility                    0.000000\n",
       "item_type                          0.000000\n",
       "item_mrp                           0.000000\n",
       "years_establisment_been_working    0.000000\n",
       "outlet_size                        0.000000\n",
       "outlet_location_type               0.000000\n",
       "outlet_type                        0.000000\n",
       "item_outlet_sales                  0.000000\n",
       "dtype: float64"
      ]
     },
     "execution_count": 21,
     "metadata": {},
     "output_type": "execute_result"
    }
   ],
   "source": [
    "data.isna().mean()"
   ]
  },
  {
   "cell_type": "markdown",
   "metadata": {
    "cell_id": "00042-ac55c88f-4547-4946-9d2f-09c23fc17e78",
    "deepnote_cell_type": "text-cell-p",
    "tags": []
   },
   "source": [
    "We noticed that some columns contains Categorial data. So in order to run regressor we covert these columns to 'one-hot' columns and add them to the data."
   ]
  },
  {
   "cell_type": "code",
   "execution_count": 22,
   "metadata": {
    "cell_id": "00043-b2d82446-5f08-41e1-837a-099b4cdd31cb",
    "deepnote_cell_type": "code",
    "deepnote_to_be_reexecuted": false,
    "execution_millis": 29,
    "execution_start": 1626256456972,
    "source_hash": "d109feaf",
    "tags": []
   },
   "outputs": [],
   "source": [
    "#delete box - this is for quick running of the pipline \n",
    "columns_list_for_get_dummies = ['item_type_identifier','item_fat_content' , 'item_type' , 'outlet_size' ,'outlet_location_type' , 'outlet_type' ]\n",
    "dummy_data = pd.get_dummies(data, columns=columns_list_for_get_dummies)"
   ]
  },
  {
   "cell_type": "code",
   "execution_count": 23,
   "metadata": {
    "cell_id": "00044-fb566d75-18cd-4e0b-ba9f-f68d3abc57c5",
    "deepnote_cell_type": "code",
    "deepnote_to_be_reexecuted": false,
    "execution_millis": 185,
    "execution_start": 1626256457006,
    "source_hash": "c4154fcd",
    "tags": []
   },
   "outputs": [
    {
     "data": {
      "text/html": [
       "<div>\n",
       "<style scoped>\n",
       "    .dataframe tbody tr th:only-of-type {\n",
       "        vertical-align: middle;\n",
       "    }\n",
       "\n",
       "    .dataframe tbody tr th {\n",
       "        vertical-align: top;\n",
       "    }\n",
       "\n",
       "    .dataframe thead th {\n",
       "        text-align: right;\n",
       "    }\n",
       "</style>\n",
       "<table border=\"1\" class=\"dataframe\">\n",
       "  <thead>\n",
       "    <tr style=\"text-align: right;\">\n",
       "      <th></th>\n",
       "      <th>item_weight</th>\n",
       "      <th>item_visibility</th>\n",
       "      <th>item_mrp</th>\n",
       "      <th>years_establisment_been_working</th>\n",
       "      <th>item_outlet_sales</th>\n",
       "      <th>item_type_identifier_Drinks</th>\n",
       "      <th>item_type_identifier_Food</th>\n",
       "      <th>item_type_identifier_Non-Consumable</th>\n",
       "      <th>item_fat_content_Low Fat</th>\n",
       "      <th>item_fat_content_Regular</th>\n",
       "      <th>...</th>\n",
       "      <th>outlet_size_High</th>\n",
       "      <th>outlet_size_Medium</th>\n",
       "      <th>outlet_size_Small</th>\n",
       "      <th>outlet_location_type_Tier 1</th>\n",
       "      <th>outlet_location_type_Tier 2</th>\n",
       "      <th>outlet_location_type_Tier 3</th>\n",
       "      <th>outlet_type_Grocery Store</th>\n",
       "      <th>outlet_type_Supermarket Type1</th>\n",
       "      <th>outlet_type_Supermarket Type2</th>\n",
       "      <th>outlet_type_Supermarket Type3</th>\n",
       "    </tr>\n",
       "  </thead>\n",
       "  <tbody>\n",
       "    <tr>\n",
       "      <th>0</th>\n",
       "      <td>9.300</td>\n",
       "      <td>0.016047</td>\n",
       "      <td>249.8092</td>\n",
       "      <td>14</td>\n",
       "      <td>3735.1380</td>\n",
       "      <td>0</td>\n",
       "      <td>1</td>\n",
       "      <td>0</td>\n",
       "      <td>1</td>\n",
       "      <td>0</td>\n",
       "      <td>...</td>\n",
       "      <td>0</td>\n",
       "      <td>1</td>\n",
       "      <td>0</td>\n",
       "      <td>1</td>\n",
       "      <td>0</td>\n",
       "      <td>0</td>\n",
       "      <td>0</td>\n",
       "      <td>1</td>\n",
       "      <td>0</td>\n",
       "      <td>0</td>\n",
       "    </tr>\n",
       "    <tr>\n",
       "      <th>1</th>\n",
       "      <td>5.920</td>\n",
       "      <td>0.019278</td>\n",
       "      <td>48.2692</td>\n",
       "      <td>4</td>\n",
       "      <td>443.4228</td>\n",
       "      <td>1</td>\n",
       "      <td>0</td>\n",
       "      <td>0</td>\n",
       "      <td>0</td>\n",
       "      <td>1</td>\n",
       "      <td>...</td>\n",
       "      <td>0</td>\n",
       "      <td>1</td>\n",
       "      <td>0</td>\n",
       "      <td>0</td>\n",
       "      <td>0</td>\n",
       "      <td>1</td>\n",
       "      <td>0</td>\n",
       "      <td>0</td>\n",
       "      <td>1</td>\n",
       "      <td>0</td>\n",
       "    </tr>\n",
       "    <tr>\n",
       "      <th>2</th>\n",
       "      <td>17.500</td>\n",
       "      <td>0.016760</td>\n",
       "      <td>141.6180</td>\n",
       "      <td>14</td>\n",
       "      <td>2097.2700</td>\n",
       "      <td>0</td>\n",
       "      <td>1</td>\n",
       "      <td>0</td>\n",
       "      <td>1</td>\n",
       "      <td>0</td>\n",
       "      <td>...</td>\n",
       "      <td>0</td>\n",
       "      <td>1</td>\n",
       "      <td>0</td>\n",
       "      <td>1</td>\n",
       "      <td>0</td>\n",
       "      <td>0</td>\n",
       "      <td>0</td>\n",
       "      <td>1</td>\n",
       "      <td>0</td>\n",
       "      <td>0</td>\n",
       "    </tr>\n",
       "    <tr>\n",
       "      <th>3</th>\n",
       "      <td>19.200</td>\n",
       "      <td>0.070482</td>\n",
       "      <td>182.0950</td>\n",
       "      <td>15</td>\n",
       "      <td>732.3800</td>\n",
       "      <td>0</td>\n",
       "      <td>1</td>\n",
       "      <td>0</td>\n",
       "      <td>0</td>\n",
       "      <td>1</td>\n",
       "      <td>...</td>\n",
       "      <td>0</td>\n",
       "      <td>0</td>\n",
       "      <td>1</td>\n",
       "      <td>0</td>\n",
       "      <td>0</td>\n",
       "      <td>1</td>\n",
       "      <td>1</td>\n",
       "      <td>0</td>\n",
       "      <td>0</td>\n",
       "      <td>0</td>\n",
       "    </tr>\n",
       "    <tr>\n",
       "      <th>4</th>\n",
       "      <td>8.930</td>\n",
       "      <td>0.070482</td>\n",
       "      <td>53.8614</td>\n",
       "      <td>26</td>\n",
       "      <td>994.7052</td>\n",
       "      <td>0</td>\n",
       "      <td>0</td>\n",
       "      <td>1</td>\n",
       "      <td>1</td>\n",
       "      <td>0</td>\n",
       "      <td>...</td>\n",
       "      <td>1</td>\n",
       "      <td>0</td>\n",
       "      <td>0</td>\n",
       "      <td>0</td>\n",
       "      <td>0</td>\n",
       "      <td>1</td>\n",
       "      <td>0</td>\n",
       "      <td>1</td>\n",
       "      <td>0</td>\n",
       "      <td>0</td>\n",
       "    </tr>\n",
       "    <tr>\n",
       "      <th>5</th>\n",
       "      <td>10.395</td>\n",
       "      <td>0.070482</td>\n",
       "      <td>51.4008</td>\n",
       "      <td>4</td>\n",
       "      <td>556.6088</td>\n",
       "      <td>0</td>\n",
       "      <td>1</td>\n",
       "      <td>0</td>\n",
       "      <td>0</td>\n",
       "      <td>1</td>\n",
       "      <td>...</td>\n",
       "      <td>0</td>\n",
       "      <td>1</td>\n",
       "      <td>0</td>\n",
       "      <td>0</td>\n",
       "      <td>0</td>\n",
       "      <td>1</td>\n",
       "      <td>0</td>\n",
       "      <td>0</td>\n",
       "      <td>1</td>\n",
       "      <td>0</td>\n",
       "    </tr>\n",
       "    <tr>\n",
       "      <th>6</th>\n",
       "      <td>13.650</td>\n",
       "      <td>0.012741</td>\n",
       "      <td>57.6588</td>\n",
       "      <td>26</td>\n",
       "      <td>343.5528</td>\n",
       "      <td>0</td>\n",
       "      <td>1</td>\n",
       "      <td>0</td>\n",
       "      <td>0</td>\n",
       "      <td>1</td>\n",
       "      <td>...</td>\n",
       "      <td>1</td>\n",
       "      <td>0</td>\n",
       "      <td>0</td>\n",
       "      <td>0</td>\n",
       "      <td>0</td>\n",
       "      <td>1</td>\n",
       "      <td>0</td>\n",
       "      <td>1</td>\n",
       "      <td>0</td>\n",
       "      <td>0</td>\n",
       "    </tr>\n",
       "    <tr>\n",
       "      <th>7</th>\n",
       "      <td>NaN</td>\n",
       "      <td>0.127470</td>\n",
       "      <td>107.7622</td>\n",
       "      <td>28</td>\n",
       "      <td>4022.7636</td>\n",
       "      <td>0</td>\n",
       "      <td>1</td>\n",
       "      <td>0</td>\n",
       "      <td>1</td>\n",
       "      <td>0</td>\n",
       "      <td>...</td>\n",
       "      <td>0</td>\n",
       "      <td>1</td>\n",
       "      <td>0</td>\n",
       "      <td>0</td>\n",
       "      <td>0</td>\n",
       "      <td>1</td>\n",
       "      <td>0</td>\n",
       "      <td>0</td>\n",
       "      <td>0</td>\n",
       "      <td>1</td>\n",
       "    </tr>\n",
       "    <tr>\n",
       "      <th>8</th>\n",
       "      <td>16.200</td>\n",
       "      <td>0.016687</td>\n",
       "      <td>96.9726</td>\n",
       "      <td>11</td>\n",
       "      <td>1076.5986</td>\n",
       "      <td>0</td>\n",
       "      <td>1</td>\n",
       "      <td>0</td>\n",
       "      <td>0</td>\n",
       "      <td>1</td>\n",
       "      <td>...</td>\n",
       "      <td>0</td>\n",
       "      <td>0</td>\n",
       "      <td>1</td>\n",
       "      <td>0</td>\n",
       "      <td>1</td>\n",
       "      <td>0</td>\n",
       "      <td>0</td>\n",
       "      <td>1</td>\n",
       "      <td>0</td>\n",
       "      <td>0</td>\n",
       "    </tr>\n",
       "    <tr>\n",
       "      <th>9</th>\n",
       "      <td>19.200</td>\n",
       "      <td>0.094450</td>\n",
       "      <td>187.8214</td>\n",
       "      <td>6</td>\n",
       "      <td>4710.5350</td>\n",
       "      <td>0</td>\n",
       "      <td>1</td>\n",
       "      <td>0</td>\n",
       "      <td>0</td>\n",
       "      <td>1</td>\n",
       "      <td>...</td>\n",
       "      <td>0</td>\n",
       "      <td>0</td>\n",
       "      <td>1</td>\n",
       "      <td>0</td>\n",
       "      <td>1</td>\n",
       "      <td>0</td>\n",
       "      <td>0</td>\n",
       "      <td>1</td>\n",
       "      <td>0</td>\n",
       "      <td>0</td>\n",
       "    </tr>\n",
       "  </tbody>\n",
       "</table>\n",
       "<p>10 rows × 36 columns</p>\n",
       "</div>"
      ],
      "text/plain": [
       "   item_weight  item_visibility  item_mrp  years_establisment_been_working  \\\n",
       "0        9.300         0.016047  249.8092                               14   \n",
       "1        5.920         0.019278   48.2692                                4   \n",
       "2       17.500         0.016760  141.6180                               14   \n",
       "3       19.200         0.070482  182.0950                               15   \n",
       "4        8.930         0.070482   53.8614                               26   \n",
       "5       10.395         0.070482   51.4008                                4   \n",
       "6       13.650         0.012741   57.6588                               26   \n",
       "7          NaN         0.127470  107.7622                               28   \n",
       "8       16.200         0.016687   96.9726                               11   \n",
       "9       19.200         0.094450  187.8214                                6   \n",
       "\n",
       "   item_outlet_sales  item_type_identifier_Drinks  item_type_identifier_Food  \\\n",
       "0          3735.1380                            0                          1   \n",
       "1           443.4228                            1                          0   \n",
       "2          2097.2700                            0                          1   \n",
       "3           732.3800                            0                          1   \n",
       "4           994.7052                            0                          0   \n",
       "5           556.6088                            0                          1   \n",
       "6           343.5528                            0                          1   \n",
       "7          4022.7636                            0                          1   \n",
       "8          1076.5986                            0                          1   \n",
       "9          4710.5350                            0                          1   \n",
       "\n",
       "   item_type_identifier_Non-Consumable  item_fat_content_Low Fat  \\\n",
       "0                                    0                         1   \n",
       "1                                    0                         0   \n",
       "2                                    0                         1   \n",
       "3                                    0                         0   \n",
       "4                                    1                         1   \n",
       "5                                    0                         0   \n",
       "6                                    0                         0   \n",
       "7                                    0                         1   \n",
       "8                                    0                         0   \n",
       "9                                    0                         0   \n",
       "\n",
       "   item_fat_content_Regular  ...  outlet_size_High  outlet_size_Medium  \\\n",
       "0                         0  ...                 0                   1   \n",
       "1                         1  ...                 0                   1   \n",
       "2                         0  ...                 0                   1   \n",
       "3                         1  ...                 0                   0   \n",
       "4                         0  ...                 1                   0   \n",
       "5                         1  ...                 0                   1   \n",
       "6                         1  ...                 1                   0   \n",
       "7                         0  ...                 0                   1   \n",
       "8                         1  ...                 0                   0   \n",
       "9                         1  ...                 0                   0   \n",
       "\n",
       "   outlet_size_Small  outlet_location_type_Tier 1  \\\n",
       "0                  0                            1   \n",
       "1                  0                            0   \n",
       "2                  0                            1   \n",
       "3                  1                            0   \n",
       "4                  0                            0   \n",
       "5                  0                            0   \n",
       "6                  0                            0   \n",
       "7                  0                            0   \n",
       "8                  1                            0   \n",
       "9                  1                            0   \n",
       "\n",
       "   outlet_location_type_Tier 2  outlet_location_type_Tier 3  \\\n",
       "0                            0                            0   \n",
       "1                            0                            1   \n",
       "2                            0                            0   \n",
       "3                            0                            1   \n",
       "4                            0                            1   \n",
       "5                            0                            1   \n",
       "6                            0                            1   \n",
       "7                            0                            1   \n",
       "8                            1                            0   \n",
       "9                            1                            0   \n",
       "\n",
       "   outlet_type_Grocery Store  outlet_type_Supermarket Type1  \\\n",
       "0                          0                              1   \n",
       "1                          0                              0   \n",
       "2                          0                              1   \n",
       "3                          1                              0   \n",
       "4                          0                              1   \n",
       "5                          0                              0   \n",
       "6                          0                              1   \n",
       "7                          0                              0   \n",
       "8                          0                              1   \n",
       "9                          0                              1   \n",
       "\n",
       "   outlet_type_Supermarket Type2  outlet_type_Supermarket Type3  \n",
       "0                              0                              0  \n",
       "1                              1                              0  \n",
       "2                              0                              0  \n",
       "3                              0                              0  \n",
       "4                              0                              0  \n",
       "5                              1                              0  \n",
       "6                              0                              0  \n",
       "7                              0                              1  \n",
       "8                              0                              0  \n",
       "9                              0                              0  \n",
       "\n",
       "[10 rows x 36 columns]"
      ]
     },
     "execution_count": 23,
     "metadata": {},
     "output_type": "execute_result"
    }
   ],
   "source": [
    "dummy_data.head(10)"
   ]
  },
  {
   "cell_type": "markdown",
   "metadata": {
    "cell_id": "00045-3e194988-6a9d-4973-95e8-f546ed2d3d85",
    "deepnote_cell_type": "text-cell-p",
    "tags": []
   },
   "source": [
    "lets see the correlations of the attributes with the target market sales"
   ]
  },
  {
   "cell_type": "code",
   "execution_count": 24,
   "metadata": {
    "cell_id": "00046-9b4260da-c7aa-4b9f-bee6-126a29c12196",
    "deepnote_cell_type": "code",
    "deepnote_to_be_reexecuted": false,
    "execution_millis": 1113,
    "execution_start": 1626256457188,
    "source_hash": "c0be9aa5",
    "tags": []
   },
   "outputs": [
    {
     "data": {
      "text/plain": [
       "Text(0.5, 1.0, 'Correlations')"
      ]
     },
     "execution_count": 24,
     "metadata": {},
     "output_type": "execute_result"
    },
    {
     "data": {
      "image/png": "[encoded data removed]",
      "text/plain": [
       "<Figure size 432x288 with 1 Axes>"
      ]
     },
     "metadata": {
      "needs_background": "light"
     },
     "output_type": "display_data"
    }
   ],
   "source": [
    "\n",
    "# Plot the corralation matrix without the Traget Value\n",
    "# data.corr()['item_outlet_sales'].drop('item_outlet_sales').plot.bar()\n",
    "dummy_data.corr()['item_outlet_sales'].drop('item_outlet_sales').plot.bar()\n",
    "plt.title('Correlations')"
   ]
  },
  {
   "cell_type": "markdown",
   "metadata": {
    "cell_id": "00047-8981433f-1392-43f6-938e-8750504c528f",
    "deepnote_cell_type": "text-cell-h1",
    "tags": []
   },
   "source": [
    "# Train and test split"
   ]
  },
  {
   "cell_type": "markdown",
   "metadata": {
    "cell_id": "00048-0404c836-1086-4ab9-93d3-a8444301693d",
    "deepnote_cell_type": "markdown",
    "tags": []
   },
   "source": [
    "Split to train and test sets:"
   ]
  },
  {
   "cell_type": "code",
   "execution_count": 25,
   "metadata": {
    "cell_id": "00049-9c4539e0-9efb-465e-a4f7-f4c178e6f5f7",
    "deepnote_cell_type": "code",
    "deepnote_to_be_reexecuted": false,
    "execution_millis": 18,
    "execution_start": 1626256458297,
    "source_hash": "3853ad93",
    "tags": []
   },
   "outputs": [
    {
     "data": {
      "text/plain": [
       "((6392, 8), (6392,), (2131, 8), (2131,))"
      ]
     },
     "execution_count": 25,
     "metadata": {},
     "output_type": "execute_result"
    }
   ],
   "source": [
    "features_to_drop_by_lasso = ['item_type_identifier_Drinks',\n",
    "       'item_type_identifier_Food', 'item_type_identifier_Non-Consumable',\n",
    "       'item_fat_content_Low Fat', 'item_fat_content_Regular',\n",
    "       'item_type_Baking Goods', 'item_type_Breads', 'item_type_Breakfast',\n",
    "       'item_type_Canned', 'item_type_Dairy', 'item_type_Frozen Foods',\n",
    "       'item_type_Fruits and Vegetables', 'item_type_Hard Drinks',\n",
    "       'item_type_Health and Hygiene', 'item_type_Household', 'item_type_Meat',\n",
    "       'item_type_Others', 'item_type_Seafood', 'item_type_Snack Foods',\n",
    "       'item_type_Soft Drinks', 'item_type_Starchy Foods', 'outlet_size_High',\n",
    "       'outlet_size_Medium', 'outlet_size_Small',\n",
    "       'outlet_location_type_Tier 1', 'outlet_location_type_Tier 2',\n",
    "       'outlet_location_type_Tier 3',]\n",
    "X, y = dummy_data.drop('item_outlet_sales', axis=1), dummy_data.item_outlet_sales\n",
    "train_test_ratio = 0.25\n",
    "X = X.drop(features_to_drop_by_lasso , axis=1)\n",
    "X_train, X_test, y_train, y_test = train_test_split(X, y, test_size=train_test_ratio, random_state=0, shuffle=True)\n",
    "X_train.shape, y_train.shape, X_test.shape, y_test.shape"
   ]
  },
  {
   "cell_type": "markdown",
   "metadata": {
    "cell_id": "00050-a1aa3ad7-32dc-435e-be6d-09e47f76ddb2",
    "deepnote_cell_type": "markdown",
    "tags": []
   },
   "source": [
    "seeing the avg weigth given the item type"
   ]
  },
  {
   "cell_type": "code",
   "execution_count": 26,
   "metadata": {
    "cell_id": "00050-90213fec-01e5-415e-8527-405551850f9d",
    "deepnote_cell_type": "code",
    "deepnote_to_be_reexecuted": false,
    "execution_millis": 26,
    "execution_start": 1626256458319,
    "source_hash": "450d8c43",
    "tags": []
   },
   "outputs": [
    {
     "name": "stdout",
     "output_type": "stream",
     "text": [
      "                       item_weight\n",
      "item_type                         \n",
      "Baking Goods             12.277108\n",
      "Breads                   11.346936\n",
      "Breakfast                12.768202\n",
      "Canned                   12.305705\n",
      "Dairy                    13.426069\n",
      "Frozen Foods             12.867061\n",
      "Fruits and Vegetables    13.224769\n",
      "Hard Drinks              11.400328\n",
      "Health and Hygiene       13.142314\n",
      "Household                13.384736\n",
      "Meat                     12.817344\n",
      "Others                   13.853285\n",
      "Seafood                  12.552843\n",
      "Snack Foods              12.987880\n",
      "Soft Drinks              11.847460\n",
      "Starchy Foods            13.690731\n"
     ]
    }
   ],
   "source": [
    "item_avg_weight = data.pivot_table(values='item_weight', index='item_type',dropna=True)\n",
    "print(item_avg_weight)\n"
   ]
  },
  {
   "cell_type": "markdown",
   "metadata": {
    "cell_id": "00052-216d4a17-1201-4ad6-9c69-f80f1bc3a236",
    "deepnote_cell_type": "text-cell-p",
    "tags": []
   },
   "source": [
    "From the following cell and the table above we can see that the average weight of a product is around the average weight of any other product type:"
   ]
  },
  {
   "cell_type": "code",
   "execution_count": 27,
   "metadata": {
    "cell_id": "00052-4726564a-9793-4c64-a235-e413c0cf649b",
    "deepnote_cell_type": "code",
    "deepnote_to_be_reexecuted": false,
    "execution_millis": 34,
    "execution_start": 1626256458342,
    "source_hash": "fe3f3cc2",
    "tags": []
   },
   "outputs": [
    {
     "data": {
      "text/plain": [
       "12.857645184135976"
      ]
     },
     "execution_count": 27,
     "metadata": {},
     "output_type": "execute_result"
    }
   ],
   "source": [
    "np.mean(data['item_weight'])"
   ]
  },
  {
   "cell_type": "markdown",
   "metadata": {
    "cell_id": "00054-9272ec23-6a95-40d6-bf51-532f3f9b9404",
    "deepnote_cell_type": "text-cell-p",
    "tags": []
   },
   "source": [
    "We will use this as an assumption and impute the missing values using the mean value."
   ]
  },
  {
   "cell_type": "markdown",
   "metadata": {
    "cell_id": "00050-7f9710aa-6a17-4b03-b64f-048bedf965dd",
    "deepnote_cell_type": "text-cell-h1",
    "tags": []
   },
   "source": [
    "# Imputation"
   ]
  },
  {
   "cell_type": "code",
   "execution_count": 28,
   "metadata": {
    "cell_id": "00051-1de84a64-e0e1-4aac-a077-2a87fe522d99",
    "deepnote_cell_type": "code",
    "deepnote_to_be_reexecuted": false,
    "execution_millis": 27,
    "execution_start": 1626256458373,
    "source_hash": "8f3ab927",
    "tags": []
   },
   "outputs": [],
   "source": [
    "from sklearn.impute import SimpleImputer\n",
    "imputer = SimpleImputer(strategy='mean')\n",
    "imputer.fit(X_train)\n",
    "X_train_imputed = imputer.transform(X_train)\n",
    "X_test_imputed = imputer.transform(X_test)\n",
    "X_train_imputed = pd.DataFrame(X_train_imputed, columns=X_train.columns)"
   ]
  },
  {
   "cell_type": "code",
   "execution_count": 29,
   "metadata": {
    "cell_id": "00052-d66e1eea-48ee-4146-817e-c00c86310343",
    "deepnote_cell_type": "code",
    "deepnote_to_be_reexecuted": false,
    "execution_millis": 46,
    "execution_start": 1626256458404,
    "source_hash": "94ed4a1b",
    "tags": []
   },
   "outputs": [
    {
     "data": {
      "text/plain": [
       "item_weight                        0.0\n",
       "item_visibility                    0.0\n",
       "item_mrp                           0.0\n",
       "years_establisment_been_working    0.0\n",
       "outlet_type_Grocery Store          0.0\n",
       "outlet_type_Supermarket Type1      0.0\n",
       "outlet_type_Supermarket Type2      0.0\n",
       "outlet_type_Supermarket Type3      0.0\n",
       "dtype: float64"
      ]
     },
     "execution_count": 29,
     "metadata": {},
     "output_type": "execute_result"
    }
   ],
   "source": [
    "X_train_imputed.isna().mean()"
   ]
  },
  {
   "cell_type": "markdown",
   "metadata": {
    "cell_id": "00053-9399fc02-c6e2-4b24-8ea5-4ad0c9a66e22",
    "deepnote_cell_type": "text-cell-p",
    "tags": []
   },
   "source": [
    "We don't have any missing values anymore. We can move on to prepare the Data for learning."
   ]
  },
  {
   "cell_type": "markdown",
   "metadata": {
    "cell_id": "00054-e037b052-f45b-4038-a0b4-2a1da80a24f6",
    "deepnote_cell_type": "text-cell-h1",
    "tags": []
   },
   "source": [
    "# Pipeline"
   ]
  },
  {
   "cell_type": "markdown",
   "metadata": {
    "cell_id": "00055-84306fcf-9725-4f31-8561-dee7614a65c8",
    "deepnote_cell_type": "text-cell-h1",
    "tags": []
   },
   "source": [
    "# Evaluation Function"
   ]
  },
  {
   "cell_type": "code",
   "execution_count": 30,
   "metadata": {
    "cell_id": "00056-514e516d-67f1-43aa-b164-e0bc4d9d2eab",
    "deepnote_cell_type": "code",
    "deepnote_to_be_reexecuted": false,
    "execution_millis": 9,
    "execution_start": 1626256458427,
    "source_hash": "f8911c5a",
    "tags": []
   },
   "outputs": [],
   "source": [
    "def check_regressor(regressor, X_train, y_train, X_test, y_test):\n",
    "    # Fit regression model\n",
    "    regressor.fit(X_train, y_train)\n",
    "\n",
    "    # Predict\n",
    "    y_pred = regressor.predict(X_test)\n",
    "    \n",
    "    model_name = regressor.__class__.__name__\n",
    "    mse = mean_squared_error(y_test, y_pred, squared=False)\n",
    "    \n",
    "    y_pred_train = regressor.predict(X_train)\n",
    "    mse_train = mean_squared_error(y_train, y_pred_train, squared=False)\n",
    "\n",
    "    print(f'{model_name} test RMSE is {mse:.4f}, train RMSE is {mse_train:.4f}')\n",
    "    return model_name, mse\n",
    "\n",
    "models_errors = {}"
   ]
  },
  {
   "cell_type": "markdown",
   "metadata": {
    "cell_id": "00057-c3a4c9e9-a49b-41e2-8482-9723272b164e",
    "deepnote_cell_type": "text-cell-h1",
    "tags": []
   },
   "source": [
    "# Baseline"
   ]
  },
  {
   "cell_type": "code",
   "execution_count": 31,
   "metadata": {
    "cell_id": "00058-79e0de9f-2049-4ea6-a94a-94788fda2dd8",
    "deepnote_cell_type": "code",
    "deepnote_to_be_reexecuted": false,
    "execution_millis": 22,
    "execution_start": 1626256458460,
    "source_hash": "ff5f9d64",
    "tags": []
   },
   "outputs": [
    {
     "name": "stdout",
     "output_type": "stream",
     "text": [
      "ConstantBaseline test RMSE is 1730.9446, train RMSE is 1698.1390\n"
     ]
    }
   ],
   "source": [
    "class ConstantBaseline:\n",
    "    '''\n",
    "    Predicts for every instance the mean value of the labels.\n",
    "    '''\n",
    "    def __init__(self, value):\n",
    "        self.y_pred = value\n",
    "    \n",
    "    def fit(self, x, y):\n",
    "        return self\n",
    "    \n",
    "    def predict(self, x):\n",
    "        return np.ones(len(x)) * self.y_pred\n",
    "\n",
    "baseline = ConstantBaseline(y_train.mean())\n",
    "name, mse = check_regressor(baseline, X_train, y_train, X_test, y_test)\n",
    "models_errors[name] = mse"
   ]
  },
  {
   "cell_type": "code",
   "execution_count": 32,
   "metadata": {
    "cell_id": "00059-f09b6e6c-068b-4572-a291-5519774bc867",
    "deepnote_cell_type": "code",
    "deepnote_to_be_reexecuted": false,
    "execution_millis": 10,
    "execution_start": 1626256458479,
    "source_hash": "dc49714e",
    "tags": []
   },
   "outputs": [],
   "source": [
    "def best_pair(k_evaluations):\n",
    "    '''\n",
    "    Returns the k and it's value that has the lowest evaluation value.\n",
    "    parameters:\n",
    "    k_evaluations    a Dictionary of k:erros pairs\n",
    "    Returns:\n",
    "    k                a number\n",
    "    '''\n",
    "    min_value = min(k_evaluations.values())\n",
    "    for k in k_evaluations.keys():\n",
    "        if k_evaluations[k] == min_value:\n",
    "            return k, k_evaluations[k]"
   ]
  },
  {
   "cell_type": "markdown",
   "metadata": {
    "cell_id": "00060-f5334d68-086b-4d3b-a205-d0a7908c617c",
    "deepnote_cell_type": "text-cell-h1",
    "tags": []
   },
   "source": [
    "# Nearest Neighbors Regressor"
   ]
  },
  {
   "cell_type": "code",
   "execution_count": 33,
   "metadata": {
    "cell_id": "00061-1aa22310-2114-4087-b1c0-ab5b9c158488",
    "deepnote_cell_type": "code",
    "deepnote_to_be_reexecuted": false,
    "execution_millis": 414,
    "execution_start": 1626256458493,
    "source_hash": "2c35d595",
    "tags": []
   },
   "outputs": [
    {
     "name": "stdout",
     "output_type": "stream",
     "text": [
      "KNeighborsRegressor test RMSE is 1349.5699, train RMSE is 1003.3687\n",
      "KNeighborsRegressor test RMSE is 1326.7003, train RMSE is 1096.8098\n",
      "KNeighborsRegressor test RMSE is 1347.3461, train RMSE is 1175.4304\n",
      "The best K is 7 and The test evaluation value is 1326.7003229786337\n"
     ]
    }
   ],
   "source": [
    "k_list = [4, 7, 11]\n",
    "k_evaluations = {}\n",
    "\n",
    "for k in k_list:\n",
    "    nearest_neighbors = KNeighborsRegressor(k)\n",
    "    name, mse = check_regressor(nearest_neighbors, X_train_imputed, y_train, X_test_imputed, y_test)\n",
    "    k_evaluations[k] = mse\n",
    "\n",
    "best_k, value = best_pair(k_evaluations)\n",
    "\n",
    "print(f\"The best K is {best_k} and The test evaluation value is {value}\")\n",
    "\n",
    "models_errors[name] = value"
   ]
  },
  {
   "cell_type": "markdown",
   "metadata": {
    "cell_id": "00062-c7148b69-c473-466d-8772-dd10cc4346b9",
    "deepnote_cell_type": "text-cell-h1",
    "tags": []
   },
   "source": [
    "# KNN Scaled"
   ]
  },
  {
   "cell_type": "code",
   "execution_count": 34,
   "metadata": {
    "cell_id": "00063-2f662bd8-9af7-486e-929c-a0d4f861107d",
    "deepnote_cell_type": "code",
    "deepnote_to_be_reexecuted": false,
    "execution_millis": 979,
    "execution_start": 1626256458901,
    "source_hash": "9142675f",
    "tags": []
   },
   "outputs": [
    {
     "name": "stdout",
     "output_type": "stream",
     "text": [
      "KNeighborsRegressor test RMSE is 1236.5555, train RMSE is 873.0028\n",
      "KNeighborsRegressor test RMSE is 1172.9447, train RMSE is 989.0287\n",
      "KNeighborsRegressor test RMSE is 1156.3218, train RMSE is 1004.2267\n",
      "The best K is 9 and The test evaluation value is 1156.3217921671453\n"
     ]
    }
   ],
   "source": [
    "scaler = StandardScaler()\n",
    "#scaler = MinMaxScaler()\n",
    "scaler.fit(X_train_imputed)\n",
    "X_train_scaled = scaler.transform(X_train_imputed)\n",
    "X_test_scaled = scaler.transform(X_test_imputed)\n",
    "\n",
    "k_list = [ 3 , 7 , 9 ]\n",
    "k_evaluations = {}\n",
    "\n",
    "for k in k_list:\n",
    "    nearest_neighbors = KNeighborsRegressor(k)\n",
    "    name, mse = check_regressor(nearest_neighbors, X_train_scaled, y_train, X_test_scaled, y_test)\n",
    "    k_evaluations[k] = mse\n",
    "\n",
    "best_k, value = best_pair(k_evaluations)\n",
    "\n",
    "print(f\"The best K is {best_k} and The test evaluation value is {value}\")\n",
    "\n",
    "models_errors[name + ' (Scaled)'] = value"
   ]
  },
  {
   "cell_type": "code",
   "execution_count": 35,
   "metadata": {
    "cell_id": "00064-7d85aee8-dfc0-45f3-b949-1cd51df120ba",
    "deepnote_cell_type": "code",
    "deepnote_to_be_reexecuted": false,
    "execution_millis": 130,
    "execution_start": 1626256459884,
    "source_hash": "b4588fee",
    "tags": []
   },
   "outputs": [
    {
     "data": {
      "text/html": [
       "<div>\n",
       "<style scoped>\n",
       "    .dataframe tbody tr th:only-of-type {\n",
       "        vertical-align: middle;\n",
       "    }\n",
       "\n",
       "    .dataframe tbody tr th {\n",
       "        vertical-align: top;\n",
       "    }\n",
       "\n",
       "    .dataframe thead th {\n",
       "        text-align: right;\n",
       "    }\n",
       "</style>\n",
       "<table border=\"1\" class=\"dataframe\">\n",
       "  <thead>\n",
       "    <tr style=\"text-align: right;\">\n",
       "      <th></th>\n",
       "      <th>item_weight</th>\n",
       "      <th>item_visibility</th>\n",
       "      <th>item_mrp</th>\n",
       "      <th>years_establisment_been_working</th>\n",
       "      <th>outlet_type_Grocery Store</th>\n",
       "      <th>outlet_type_Supermarket Type1</th>\n",
       "      <th>outlet_type_Supermarket Type2</th>\n",
       "      <th>outlet_type_Supermarket Type3</th>\n",
       "    </tr>\n",
       "  </thead>\n",
       "  <tbody>\n",
       "    <tr>\n",
       "      <th>count</th>\n",
       "      <td>6.392000e+03</td>\n",
       "      <td>6.392000e+03</td>\n",
       "      <td>6.392000e+03</td>\n",
       "      <td>6.392000e+03</td>\n",
       "      <td>6.392000e+03</td>\n",
       "      <td>6.392000e+03</td>\n",
       "      <td>6.392000e+03</td>\n",
       "      <td>6.392000e+03</td>\n",
       "    </tr>\n",
       "    <tr>\n",
       "      <th>mean</th>\n",
       "      <td>-1.861951e-17</td>\n",
       "      <td>1.678535e-16</td>\n",
       "      <td>2.806822e-16</td>\n",
       "      <td>3.334838e-17</td>\n",
       "      <td>-4.001805e-17</td>\n",
       "      <td>1.056032e-17</td>\n",
       "      <td>-5.002256e-18</td>\n",
       "      <td>-3.334838e-18</td>\n",
       "    </tr>\n",
       "    <tr>\n",
       "      <th>std</th>\n",
       "      <td>1.000078e+00</td>\n",
       "      <td>1.000078e+00</td>\n",
       "      <td>1.000078e+00</td>\n",
       "      <td>1.000078e+00</td>\n",
       "      <td>1.000078e+00</td>\n",
       "      <td>1.000078e+00</td>\n",
       "      <td>1.000078e+00</td>\n",
       "      <td>1.000078e+00</td>\n",
       "    </tr>\n",
       "    <tr>\n",
       "      <th>min</th>\n",
       "      <td>-1.975820e+00</td>\n",
       "      <td>-1.371766e+00</td>\n",
       "      <td>-1.741636e+00</td>\n",
       "      <td>-1.333665e+00</td>\n",
       "      <td>-3.803934e-01</td>\n",
       "      <td>-1.375612e+00</td>\n",
       "      <td>-3.509657e-01</td>\n",
       "      <td>-3.509657e-01</td>\n",
       "    </tr>\n",
       "    <tr>\n",
       "      <th>25%</th>\n",
       "      <td>-8.318028e-01</td>\n",
       "      <td>-7.665902e-01</td>\n",
       "      <td>-7.594282e-01</td>\n",
       "      <td>-7.359796e-01</td>\n",
       "      <td>-3.803934e-01</td>\n",
       "      <td>-1.375612e+00</td>\n",
       "      <td>-3.509657e-01</td>\n",
       "      <td>-3.509657e-01</td>\n",
       "    </tr>\n",
       "    <tr>\n",
       "      <th>50%</th>\n",
       "      <td>0.000000e+00</td>\n",
       "      <td>-1.564110e-01</td>\n",
       "      <td>3.093548e-02</td>\n",
       "      <td>-1.382942e-01</td>\n",
       "      <td>-3.803934e-01</td>\n",
       "      <td>7.269493e-01</td>\n",
       "      <td>-3.509657e-01</td>\n",
       "      <td>-3.509657e-01</td>\n",
       "    </tr>\n",
       "    <tr>\n",
       "      <th>75%</th>\n",
       "      <td>7.530389e-01</td>\n",
       "      <td>4.880213e-01</td>\n",
       "      <td>7.193988e-01</td>\n",
       "      <td>1.296151e+00</td>\n",
       "      <td>-3.803934e-01</td>\n",
       "      <td>7.269493e-01</td>\n",
       "      <td>-3.509657e-01</td>\n",
       "      <td>-3.509657e-01</td>\n",
       "    </tr>\n",
       "    <tr>\n",
       "      <th>max</th>\n",
       "      <td>1.993966e+00</td>\n",
       "      <td>5.296026e+00</td>\n",
       "      <td>2.024325e+00</td>\n",
       "      <td>1.535225e+00</td>\n",
       "      <td>2.628857e+00</td>\n",
       "      <td>7.269493e-01</td>\n",
       "      <td>2.849281e+00</td>\n",
       "      <td>2.849281e+00</td>\n",
       "    </tr>\n",
       "  </tbody>\n",
       "</table>\n",
       "</div>"
      ],
      "text/plain": [
       "        item_weight  item_visibility      item_mrp  \\\n",
       "count  6.392000e+03     6.392000e+03  6.392000e+03   \n",
       "mean  -1.861951e-17     1.678535e-16  2.806822e-16   \n",
       "std    1.000078e+00     1.000078e+00  1.000078e+00   \n",
       "min   -1.975820e+00    -1.371766e+00 -1.741636e+00   \n",
       "25%   -8.318028e-01    -7.665902e-01 -7.594282e-01   \n",
       "50%    0.000000e+00    -1.564110e-01  3.093548e-02   \n",
       "75%    7.530389e-01     4.880213e-01  7.193988e-01   \n",
       "max    1.993966e+00     5.296026e+00  2.024325e+00   \n",
       "\n",
       "       years_establisment_been_working  outlet_type_Grocery Store  \\\n",
       "count                     6.392000e+03               6.392000e+03   \n",
       "mean                      3.334838e-17              -4.001805e-17   \n",
       "std                       1.000078e+00               1.000078e+00   \n",
       "min                      -1.333665e+00              -3.803934e-01   \n",
       "25%                      -7.359796e-01              -3.803934e-01   \n",
       "50%                      -1.382942e-01              -3.803934e-01   \n",
       "75%                       1.296151e+00              -3.803934e-01   \n",
       "max                       1.535225e+00               2.628857e+00   \n",
       "\n",
       "       outlet_type_Supermarket Type1  outlet_type_Supermarket Type2  \\\n",
       "count                   6.392000e+03                   6.392000e+03   \n",
       "mean                    1.056032e-17                  -5.002256e-18   \n",
       "std                     1.000078e+00                   1.000078e+00   \n",
       "min                    -1.375612e+00                  -3.509657e-01   \n",
       "25%                    -1.375612e+00                  -3.509657e-01   \n",
       "50%                     7.269493e-01                  -3.509657e-01   \n",
       "75%                     7.269493e-01                  -3.509657e-01   \n",
       "max                     7.269493e-01                   2.849281e+00   \n",
       "\n",
       "       outlet_type_Supermarket Type3  \n",
       "count                   6.392000e+03  \n",
       "mean                   -3.334838e-18  \n",
       "std                     1.000078e+00  \n",
       "min                    -3.509657e-01  \n",
       "25%                    -3.509657e-01  \n",
       "50%                    -3.509657e-01  \n",
       "75%                    -3.509657e-01  \n",
       "max                     2.849281e+00  "
      ]
     },
     "execution_count": 35,
     "metadata": {},
     "output_type": "execute_result"
    }
   ],
   "source": [
    "pd.DataFrame(X_train_scaled, columns=X_train.columns).describe()"
   ]
  },
  {
   "cell_type": "markdown",
   "metadata": {
    "cell_id": "00065-dd8d5fda-904f-4292-a87e-6e83f70afa42",
    "deepnote_cell_type": "text-cell-h1",
    "tags": []
   },
   "source": [
    "# Decision Tree Regressor"
   ]
  },
  {
   "cell_type": "code",
   "execution_count": 36,
   "metadata": {
    "cell_id": "00066-c956e4c1-fd6d-4c42-80a2-e878c24c9c67",
    "deepnote_cell_type": "code",
    "deepnote_to_be_reexecuted": false,
    "execution_millis": 124,
    "execution_start": 1626256460011,
    "source_hash": "f0dcd48b",
    "tags": []
   },
   "outputs": [
    {
     "name": "stdout",
     "output_type": "stream",
     "text": [
      "DecisionTreeRegressor test RMSE is 1300.1533, train RMSE is 1280.2745\n",
      "DecisionTreeRegressor test RMSE is 1113.5723, train RMSE is 1052.5388\n",
      "DecisionTreeRegressor test RMSE is 1185.8530, train RMSE is 982.9031\n",
      "The best max depth  is 6 and The test evaluation value is 1113.5722868612604\n"
     ]
    }
   ],
   "source": [
    "max_depth_list = [2,6,9]\n",
    "max_depth_evaluations = {}\n",
    "\n",
    "for max_depth in max_depth_list:\n",
    "    decision_tree = DecisionTreeRegressor(max_depth=max_depth, random_state=0)\n",
    "    # name, mse = check_regressor(decision_tree, X_train_scaled, y_train, X_test_scaled, y_test)\n",
    "    name, mse = check_regressor(decision_tree, X_train_imputed, y_train, X_test_imputed, y_test)\n",
    "    max_depth_evaluations[max_depth] = mse\n",
    "\n",
    "best_max_depth, value = best_pair(max_depth_evaluations)\n",
    "print(f\"The best max depth  is {best_max_depth} and The test evaluation value is {value}\")\n",
    "models_errors[name] = value"
   ]
  },
  {
   "cell_type": "markdown",
   "metadata": {
    "cell_id": "00067-eb91ba23-35fd-4f31-a566-5fddd806253e",
    "deepnote_cell_type": "text-cell-h1",
    "tags": []
   },
   "source": [
    "# Random Forest Regressor"
   ]
  },
  {
   "cell_type": "code",
   "execution_count": 37,
   "metadata": {
    "cell_id": "00068-5e3c613e-11b3-41da-8984-c03f9e1bee0a",
    "deepnote_cell_type": "code",
    "deepnote_to_be_reexecuted": false,
    "execution_millis": 4532,
    "execution_start": 1626256460131,
    "source_hash": "ec467d6e",
    "tags": []
   },
   "outputs": [
    {
     "name": "stdout",
     "output_type": "stream",
     "text": [
      "RandomForestRegressor test RMSE is 1277.3941, train RMSE is 1235.4663\n",
      "RandomForestRegressor test RMSE is 1102.8548, train RMSE is 1040.1441\n",
      "RandomForestRegressor test RMSE is 1113.0574, train RMSE is 947.9122\n",
      "The best max depth  is 6 and The test evaluation value is 1102.854845676016\n"
     ]
    }
   ],
   "source": [
    "n_estimators = 100\n",
    "max_depth_list = [2,6,9]\n",
    "max_depth_evaluations = {}\n",
    "\n",
    "for max_depth in max_depth_list:\n",
    "    random_forest = RandomForestRegressor(n_estimators=n_estimators, max_depth=max_depth, random_state=0)\n",
    "    name, mse = check_regressor(random_forest, X_train_imputed, y_train, X_test_imputed, y_test)\n",
    "    max_depth_evaluations[max_depth] = mse\n",
    "\n",
    "best_max_depth, value = best_pair(max_depth_evaluations)\n",
    "\n",
    "print(f\"The best max depth  is {best_max_depth} and The test evaluation value is {value}\")\n",
    "\n",
    "models_errors[name] = value"
   ]
  },
  {
   "cell_type": "code",
   "execution_count": 38,
   "metadata": {
    "cell_id": "00069-d0647142-a097-4658-b78d-72ead05db8cd",
    "deepnote_cell_type": "code",
    "deepnote_to_be_reexecuted": false,
    "execution_millis": 509,
    "execution_start": 1626256464665,
    "source_hash": "9144bcce",
    "tags": []
   },
   "outputs": [
    {
     "data": {
      "text/plain": [
       "<AxesSubplot:>"
      ]
     },
     "execution_count": 38,
     "metadata": {},
     "output_type": "execute_result"
    },
    {
     "data": {
      "image/png": "[encoded data removed]",
      "text/plain": [
       "<Figure size 1080x720 with 1 Axes>"
      ]
     },
     "metadata": {
      "needs_background": "light"
     },
     "output_type": "display_data"
    }
   ],
   "source": [
    "feature_importence = pd.Series(random_forest.feature_importances_, index=X_train.columns).sort_values()\n",
    "feature_importence.plot(kind='barh',figsize=(15,10))\n"
   ]
  },
  {
   "cell_type": "code",
   "execution_count": 39,
   "metadata": {
    "cell_id": "00070-c1d6e5ba-0742-4e9a-806c-20ab084b9e07",
    "deepnote_cell_type": "code",
    "deepnote_to_be_reexecuted": false,
    "execution_millis": 36,
    "execution_start": 1626256465177,
    "source_hash": "71c86f86",
    "tags": []
   },
   "outputs": [
    {
     "name": "stdout",
     "output_type": "stream",
     "text": [
      "outlet_type_Supermarket Type2      0.001960\n",
      "outlet_type_Supermarket Type1      0.002172\n",
      "item_weight                        0.020637\n",
      "item_visibility                    0.048753\n",
      "years_establisment_been_working    0.050351\n",
      "outlet_type_Supermarket Type3      0.059269\n",
      "outlet_type_Grocery Store          0.276392\n",
      "item_mrp                           0.540466\n",
      "dtype: float64\n"
     ]
    }
   ],
   "source": [
    "print(pd.Series(random_forest.feature_importances_, index=X_train.columns).sort_values())"
   ]
  },
  {
   "cell_type": "markdown",
   "metadata": {
    "cell_id": "00071-1a217813-1b72-406a-b7b0-de895eba9914",
    "deepnote_cell_type": "text-cell-h1",
    "tags": []
   },
   "source": [
    "# AdaBoost Regressor"
   ]
  },
  {
   "cell_type": "code",
   "execution_count": 40,
   "metadata": {
    "cell_id": "00072-cf60acd1-d5d5-4a32-827b-ad083a66290f",
    "deepnote_cell_type": "code",
    "deepnote_to_be_reexecuted": false,
    "execution_millis": 5560,
    "execution_start": 1626256465209,
    "source_hash": "854242c5",
    "tags": []
   },
   "outputs": [
    {
     "name": "stdout",
     "output_type": "stream",
     "text": [
      "AdaBoostRegressor test RMSE is 1248.0718, train RMSE is 1214.6134\n",
      "AdaBoostRegressor test RMSE is 1200.9467, train RMSE is 1032.7560\n",
      "AdaBoostRegressor test RMSE is 1157.8170, train RMSE is 667.3475\n",
      "The best max depth  is 11 and The test evaluation value is 1157.8170470905925\n"
     ]
    }
   ],
   "source": [
    "n_estimators = 100\n",
    "\n",
    "max_depth_list = [3,7,11]\n",
    "max_depth_evaluations = {}\n",
    "\n",
    "for max_depth in max_depth_list:\n",
    "    tree = DecisionTreeRegressor(max_depth=max_depth)\n",
    "    ada_boost = AdaBoostRegressor(tree, n_estimators=n_estimators, random_state=0)\n",
    "    name, mse = check_regressor(ada_boost, X_train_imputed, y_train, X_test_imputed, y_test)\n",
    "    max_depth_evaluations[max_depth] = mse\n",
    "\n",
    "best_max_depth, value = best_pair(max_depth_evaluations)\n",
    "print(f\"The best max depth  is {best_max_depth} and The test evaluation value is {value}\")\n",
    "models_errors[name] = value"
   ]
  },
  {
   "cell_type": "code",
   "execution_count": 41,
   "metadata": {
    "cell_id": "00073-10f26fa6-a9dc-4afd-acff-6675845bebb4",
    "deepnote_cell_type": "code",
    "deepnote_to_be_reexecuted": false,
    "execution_millis": 552,
    "execution_start": 1626256470773,
    "source_hash": "27439602",
    "tags": []
   },
   "outputs": [
    {
     "data": {
      "text/plain": [
       "<AxesSubplot:>"
      ]
     },
     "execution_count": 41,
     "metadata": {},
     "output_type": "execute_result"
    },
    {
     "data": {
      "image/png": "[encoded data removed]",
      "text/plain": [
       "<Figure size 1080x720 with 1 Axes>"
      ]
     },
     "metadata": {
      "needs_background": "light"
     },
     "output_type": "display_data"
    }
   ],
   "source": [
    "feature_importence = pd.Series(ada_boost.feature_importances_, index=X_train.columns).sort_values()\n",
    "feature_importence.plot(kind='barh',figsize=(15,10))"
   ]
  },
  {
   "cell_type": "markdown",
   "metadata": {
    "cell_id": "00074-de127813-16dc-4dc8-871c-ea6949537c8d",
    "deepnote_cell_type": "text-cell-h1",
    "tags": []
   },
   "source": [
    "# Linear Regressor"
   ]
  },
  {
   "cell_type": "code",
   "execution_count": 42,
   "metadata": {
    "cell_id": "00075-694e5d45-6a62-4041-bb2f-65774455fb60",
    "deepnote_cell_type": "code",
    "deepnote_to_be_reexecuted": false,
    "execution_millis": 65,
    "execution_start": 1626256471327,
    "source_hash": "e063a6e1",
    "tags": []
   },
   "outputs": [
    {
     "name": "stdout",
     "output_type": "stream",
     "text": [
      "LinearRegression test RMSE is 1147.6734, train RMSE is 1123.1070\n"
     ]
    }
   ],
   "source": [
    "linear_regressor = LinearRegression(normalize=True)\n",
    "name, mse = check_regressor(linear_regressor, X_train_imputed, y_train, X_test_imputed, y_test)\n",
    "models_errors[name] = mse"
   ]
  },
  {
   "cell_type": "code",
   "execution_count": 43,
   "metadata": {
    "cell_id": "00076-75be3bf4-eaae-4eae-8389-c2cc9714dfbc",
    "deepnote_cell_type": "code",
    "deepnote_to_be_reexecuted": false,
    "execution_millis": 500,
    "execution_start": 1626256471389,
    "source_hash": "3603be8e",
    "tags": []
   },
   "outputs": [
    {
     "data": {
      "text/plain": [
       "<AxesSubplot:>"
      ]
     },
     "execution_count": 43,
     "metadata": {},
     "output_type": "execute_result"
    },
    {
     "data": {
      "image/png": "[encoded data removed]",
      "text/plain": [
       "<Figure size 432x288 with 1 Axes>"
      ]
     },
     "metadata": {
      "needs_background": "light"
     },
     "output_type": "display_data"
    }
   ],
   "source": [
    "pd.Series(linear_regressor.coef_, index=X.columns).sort_index().plot.bar()"
   ]
  },
  {
   "cell_type": "markdown",
   "metadata": {
    "cell_id": "00077-05dda3b9-dcd4-4ec7-baa3-c9e71a21c11a",
    "deepnote_cell_type": "text-cell-h1",
    "tags": []
   },
   "source": [
    "# Lasso Scaled"
   ]
  },
  {
   "cell_type": "code",
   "execution_count": 44,
   "metadata": {
    "cell_id": "00078-48615914-fe98-4e8d-8cea-a0080195abcc",
    "deepnote_cell_type": "code",
    "deepnote_to_be_reexecuted": false,
    "execution_millis": 97,
    "execution_start": 1626256471891,
    "source_hash": "10b074b5",
    "tags": []
   },
   "outputs": [
    {
     "name": "stdout",
     "output_type": "stream",
     "text": [
      "Lasso test RMSE is 1147.6734, train RMSE is 1123.1070\n",
      "Lasso test RMSE is 1147.6734, train RMSE is 1123.1070\n",
      "Lasso test RMSE is 1147.6712, train RMSE is 1123.1070\n",
      "The best alpha  is 0.01 and The test evaluation value is 1147.671176969377\n"
     ]
    }
   ],
   "source": [
    "scaler = MinMaxScaler()\n",
    "# scaler = StandardScaler()\n",
    "scaler.fit(X_train_imputed)\n",
    "X_train_scaled = scaler.transform(X_train_imputed)\n",
    "X_test_scaled = scaler.transform(X_test_imputed)\n",
    "\n",
    "alpha_list = [0.000001,0.0001 ,0.01 ]\n",
    "alpha_evaluations = {}\n",
    "\n",
    "for alpha in alpha_list:\n",
    "    lasso = Lasso(alpha=alpha)\n",
    "    name, mse = check_regressor(lasso, X_train_scaled, y_train, X_test_scaled, y_test)\n",
    "    alpha_evaluations[alpha] = mse\n",
    "\n",
    "best_alpha, value = best_pair(alpha_evaluations)\n",
    "print(f\"The best alpha  is {best_alpha} and The test evaluation value is {value}\")\n",
    "models_errors[name] = value"
   ]
  },
  {
   "cell_type": "code",
   "execution_count": 45,
   "metadata": {
    "cell_id": "00079-6f3335fa-bd99-4917-8003-a831a808e533",
    "deepnote_cell_type": "code",
    "deepnote_to_be_reexecuted": false,
    "execution_millis": 541,
    "execution_start": 1626256471983,
    "source_hash": "d783f960",
    "tags": []
   },
   "outputs": [
    {
     "data": {
      "text/plain": [
       "<AxesSubplot:>"
      ]
     },
     "execution_count": 45,
     "metadata": {},
     "output_type": "execute_result"
    },
    {
     "data": {
      "image/png": "[encoded data removed]",
      "text/plain": [
       "<Figure size 432x288 with 1 Axes>"
      ]
     },
     "metadata": {
      "needs_background": "light"
     },
     "output_type": "display_data"
    }
   ],
   "source": [
    "pd.Series(lasso.coef_, index=X.columns).plot.bar()"
   ]
  },
  {
   "cell_type": "markdown",
   "metadata": {
    "cell_id": "00080-061a73c2-316c-4123-a20f-6e658bd92add",
    "deepnote_cell_type": "text-cell-h1",
    "tags": []
   },
   "source": [
    "# Performance Comparison"
   ]
  },
  {
   "cell_type": "code",
   "execution_count": 46,
   "metadata": {
    "cell_id": "00081-a11b0dd8-29b2-4c2f-aa7e-509ef8789a5d",
    "deepnote_cell_type": "code",
    "deepnote_to_be_reexecuted": false,
    "execution_millis": 39,
    "execution_start": 1626256472571,
    "source_hash": "1cd80116",
    "tags": []
   },
   "outputs": [
    {
     "data": {
      "text/html": [
       "<div>\n",
       "<style scoped>\n",
       "    .dataframe tbody tr th:only-of-type {\n",
       "        vertical-align: middle;\n",
       "    }\n",
       "\n",
       "    .dataframe tbody tr th {\n",
       "        vertical-align: top;\n",
       "    }\n",
       "\n",
       "    .dataframe thead th {\n",
       "        text-align: right;\n",
       "    }\n",
       "</style>\n",
       "<table border=\"1\" class=\"dataframe\">\n",
       "  <thead>\n",
       "    <tr style=\"text-align: right;\">\n",
       "      <th></th>\n",
       "      <th>mean squared error</th>\n",
       "    </tr>\n",
       "  </thead>\n",
       "  <tbody>\n",
       "    <tr>\n",
       "      <th>RandomForestRegressor</th>\n",
       "      <td>1102.854846</td>\n",
       "    </tr>\n",
       "    <tr>\n",
       "      <th>DecisionTreeRegressor</th>\n",
       "      <td>1113.572287</td>\n",
       "    </tr>\n",
       "    <tr>\n",
       "      <th>Lasso</th>\n",
       "      <td>1147.671177</td>\n",
       "    </tr>\n",
       "    <tr>\n",
       "      <th>LinearRegression</th>\n",
       "      <td>1147.673416</td>\n",
       "    </tr>\n",
       "    <tr>\n",
       "      <th>KNeighborsRegressor (Scaled)</th>\n",
       "      <td>1156.321792</td>\n",
       "    </tr>\n",
       "    <tr>\n",
       "      <th>AdaBoostRegressor</th>\n",
       "      <td>1157.817047</td>\n",
       "    </tr>\n",
       "    <tr>\n",
       "      <th>KNeighborsRegressor</th>\n",
       "      <td>1326.700323</td>\n",
       "    </tr>\n",
       "    <tr>\n",
       "      <th>ConstantBaseline</th>\n",
       "      <td>1730.944640</td>\n",
       "    </tr>\n",
       "  </tbody>\n",
       "</table>\n",
       "</div>"
      ],
      "text/plain": [
       "                              mean squared error\n",
       "RandomForestRegressor                1102.854846\n",
       "DecisionTreeRegressor                1113.572287\n",
       "Lasso                                1147.671177\n",
       "LinearRegression                     1147.673416\n",
       "KNeighborsRegressor (Scaled)         1156.321792\n",
       "AdaBoostRegressor                    1157.817047\n",
       "KNeighborsRegressor                  1326.700323\n",
       "ConstantBaseline                     1730.944640"
      ]
     },
     "execution_count": 46,
     "metadata": {},
     "output_type": "execute_result"
    }
   ],
   "source": [
    "pd.Series(models_errors, name='mean squared error').sort_values().to_frame()"
   ]
  },
  {
   "cell_type": "markdown",
   "metadata": {
    "cell_id": "00082-2404be57-6477-457d-b2f2-d30fb8940d5b",
    "deepnote_cell_type": "text-cell-h1",
    "tags": []
   },
   "source": [
    "# Hyperparameters Search on Random Forest Regressor"
   ]
  },
  {
   "cell_type": "code",
   "execution_count": null,
   "metadata": {
    "cell_id": "00083-ca21b0cf-cbd0-45f1-9c08-4fc1153a59d9",
    "deepnote_cell_type": "code",
    "deepnote_to_be_reexecuted": false,
    "execution_millis": 79607,
    "execution_start": 1626256472607,
    "source_hash": "f4354c62",
    "tags": []
   },
   "outputs": [],
   "source": [
    "n_estimators_list = [50,75,100,125,150,200,250]\n",
    "max_depth_list = [1,2,3,4,5,6,7]\n",
    "pairs = {}\n",
    "rmse_train_depth6 = [] \n",
    "rmse_test_depth6 = [] \n",
    "\n",
    "for estimator in n_estimators_list:\n",
    "    for max_depth in max_depth_list:\n",
    "        random_forest = RandomForestRegressor(n_estimators=estimator, max_depth=max_depth, random_state=0)\n",
    "        random_forest.fit(X_train_imputed, y_train)\n",
    "        y_pred_train = random_forest.predict(X_train_imputed)\n",
    "        y_pred = random_forest.predict(X_test_imputed)\n",
    "        rmse_current_train = mean_squared_error(y_train, y_pred_train, squared=False)\n",
    "        rmse_current_test = mean_squared_error(y_test, y_pred, squared=False)\n",
    "        pairs[(estimator, max_depth)] = rmse_current_test\n",
    "        if max_depth == 6 :\n",
    "            rmse_test_depth6.append(rmse_current_test)\n",
    "            rmse_train_depth6.append(rmse_current_train)\n",
    "\n",
    "params, mse_value = best_pair(pairs)\n",
    "print(params)\n",
    "print(mse_value)\n",
    "        "
   ]
  },
  {
   "cell_type": "code",
   "execution_count": null,
   "metadata": {
    "cell_id": "00090-0479bb18-17ec-49c1-818f-345b122c94d0",
    "deepnote_cell_type": "code",
    "deepnote_to_be_reexecuted": false,
    "execution_millis": 438,
    "execution_start": 1626256608375,
    "source_hash": "517c8e7",
    "tags": []
   },
   "outputs": [],
   "source": [
    "plt.plot(n_estimators_list, rmse_train_depth6, 'o', color='orange')\n",
    "plt.plot(n_estimators_list, rmse_test_depth6, 'o', color='blue' )\n",
    "\n",
    "circle_rad = 15  # This is the radius, in points\n",
    "# Mark the previous minimal pair (found by searching between 3 values)\n",
    "plt.plot([150] , min(rmse_test_depth6), 'o', ms=circle_rad * 2, mec='green', mfc='None', mew=2)\n",
    "plt.text(50, rmse_test_depth6[2] - 10, f'(100,6) --> {rmse_test_depth6[2]:.2f}', c='r')\n",
    "# Mark the minimal pair (found by grid search)\n",
    "plt.plot([100] , rmse_test_depth6[2], 'o', ms=circle_rad * 2, mec='r', mfc='None', mew=2)\n",
    "plt.text(120, min(rmse_test_depth6)- 10, f'(150,6) --> {min(rmse_test_depth6):.2f}', c='green')\n",
    "\n",
    "\n",
    "plt.legend([\"Train\",\"Test\"])\n",
    "plt.title(\"RMSE as a function of #n_estimators given max_depth = 6\")\n",
    "plt.ylabel(\"RMSE\")\n",
    "plt.xlabel(\"n_estimators\")"
   ]
  },
  {
   "cell_type": "markdown",
   "metadata": {
    "cell_id": "00084-cdf04301-b6b6-4a32-9021-57c03f916a5b",
    "deepnote_cell_type": "text-cell-h1",
    "tags": []
   },
   "source": [
    "# Performance vs. amount of data"
   ]
  },
  {
   "cell_type": "code",
   "execution_count": null,
   "metadata": {
    "cell_id": "00086-7118a3ab-358d-4956-958f-4c6618fda299",
    "deepnote_cell_type": "code",
    "deepnote_to_be_reexecuted": false,
    "execution_millis": 8297,
    "execution_start": 1626256552639,
    "source_hash": "c6acecaa",
    "tags": []
   },
   "outputs": [],
   "source": [
    "#df.iloc[[2, 3, 5]]\n",
    "import random\n",
    "#[10%/30%/50%/70%/100%] \n",
    "\n",
    "estimator = 200\n",
    "max_depth = 5\n",
    "ratios_mse = []\n",
    "\n",
    "X_train_precentege = [0.1,0.3,0.5,0.7,1]\n",
    "\n",
    "for ratio in X_train_precentege:\n",
    "    random_lines =random.sample(range(0,len(X_train_imputed)), int(ratio * len(X_train_imputed)))\n",
    "    # print(random_lines)\n",
    "    new_X_train = X_train_imputed.iloc[random_lines]\n",
    "    new_y_train = y_train.iloc[random_lines]\n",
    "    random_forest = RandomForestRegressor(n_estimators=estimator, max_depth=max_depth, random_state=0)\n",
    "    random_forest.fit(new_X_train, new_y_train)\n",
    "    y_pred = random_forest.predict(X_test_imputed)\n",
    "    ratios_mse.append(mean_squared_error(y_test, y_pred))\n",
    "\n",
    "\n",
    "\n"
   ]
  },
  {
   "cell_type": "code",
   "execution_count": null,
   "metadata": {
    "cell_id": "00087-e8f806ab-1755-41d5-bf74-a490591bd8ad",
    "deepnote_cell_type": "code",
    "deepnote_to_be_reexecuted": false,
    "execution_millis": 370,
    "execution_start": 1626256560944,
    "source_hash": "8d6becdd",
    "tags": []
   },
   "outputs": [],
   "source": [
    "plt.figure(figsize=(10,7))\n",
    "plt.ylabel('RMSE')\n",
    "plt.xlabel('Train instances ratio')\n",
    "plt.title(\"RMSE as a function of % of samples from the Training Set\")\n",
    "plt.plot(X_train_precentege, ratios_mse)"
   ]
  },
  {
   "cell_type": "markdown",
   "metadata": {
    "cell_id": "00088-1418cf0a-02b3-47da-9cbc-32cbb1687532",
    "deepnote_cell_type": "text-cell-h2",
    "tags": []
   },
   "source": [
    "## Would you recommend collecting more data for the problem?\n",
    "\n"
   ]
  },
  {
   "cell_type": "markdown",
   "metadata": {
    "cell_id": "00089-c9d07821-deda-432a-bad8-580462d38a2f",
    "deepnote_cell_type": "markdown",
    "tags": []
   },
   "source": [
    "There is no need to collect more data, as we see in the graph above, after using more than 50% from the training data the RMSE is not decreasing . \n"
   ]
  },
  {
   "cell_type": "markdown",
   "metadata": {
    "cell_id": "00090-852131a6-53b9-4261-a858-9f0118a7ca7f",
    "deepnote_cell_type": "markdown",
    "tags": []
   },
   "source": []
  },
  {
   "cell_type": "markdown",
   "metadata": {
    "created_in_deepnote_cell": true,
    "deepnote_cell_type": "markdown",
    "tags": []
   },
   "source": [
    "<a style='text-decoration:none;line-height:16px;display:flex;color:#5B5B62;padding:10px;justify-content:end;' href='https://deepnote.com?utm_source=created-in-deepnote-cell&projectId=683d9d6a-22c3-4c97-92ba-d27f27ba00e4' target=\"_blank\">\n",
    "<img alt='Created in deepnote.com' style='display:inline;max-height:16px;margin:0px;margin-right:7.5px;' src='data:image/svg+xml;base64,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' > </img>\n",
    "Created in <span style='font-weight:600;margin-left:4px;'>Deepnote</span></a>"
   ]
  }
 ],
 "metadata": {
  "deepnote": {
   "is_reactive": false
  },
  "deepnote_execution_queue": [],
  "deepnote_notebook_id": "95656aeb-26ff-4296-a248-76926fee9fed",
  "kernelspec": {
   "display_name": "Python 3",
   "language": "python",
   "name": "python3"
  },
  "language_info": {
   "codemirror_mode": {
    "name": "ipython",
    "version": 3
   },
   "file_extension": ".py",
   "mimetype": "text/x-python",
   "name": "python",
   "nbconvert_exporter": "python",
   "pygments_lexer": "ipython3",
   "version": "3.9.2"
  }
 },
 "nbformat": 4,
 "nbformat_minor": 2
}
